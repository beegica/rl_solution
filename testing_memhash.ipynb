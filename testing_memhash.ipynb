{
 "cells": [
  {
   "cell_type": "code",
   "execution_count": 1,
   "metadata": {},
   "outputs": [
    {
     "name": "stdout",
     "output_type": "stream",
     "text": [
      "Populating the interactive namespace from numpy and matplotlib\n"
     ]
    }
   ],
   "source": [
    "%pylab inline"
   ]
  },
  {
   "cell_type": "code",
   "execution_count": 2,
   "metadata": {},
   "outputs": [
    {
     "name": "stdout",
     "output_type": "stream",
     "text": [
      "False\n"
     ]
    }
   ],
   "source": [
    "import os\n",
    "from collections import namedtuple\n",
    "import numpy as np\n",
    "import pandas as pd\n",
    "import random\n",
    "\n",
    "import torch\n",
    "import torch.nn as nn\n",
    "import torch.nn.functional as F\n",
    "from torch.autograd import Variable\n",
    "import torch.optim as optim\n",
    "\n",
    "from catch import Catch\n",
    "\n",
    "from sith import SITH\n",
    "from memory_hash import HashedMemory\n",
    "\n",
    "# if gpu is to be used\n",
    "use_cuda = torch.cuda.is_available()\n",
    "FloatTensor = torch.cuda.FloatTensor if use_cuda else torch.FloatTensor\n",
    "IntTensor = torch.cuda.IntTensor if use_cuda else torch.IntTensor\n",
    "LongTensor = torch.cuda.LongTensor if use_cuda else torch.LongTensor\n",
    "ByteTensor = torch.cuda.ByteTensor if use_cuda else torch.ByteTensor\n",
    "Tensor = FloatTensor\n",
    "print(use_cuda)"
   ]
  },
  {
   "cell_type": "code",
   "execution_count": 627,
   "metadata": {
    "collapsed": true
   },
   "outputs": [],
   "source": [
    "\"\"\"\n",
    "Reinforcement learning without going too deep.\n",
    "\"\"\"\n",
    "\n",
    "class SithSR(object):\n",
    "    \"\"\"SITH-based Successor Representation\"\"\"\n",
    "    def __init__(self, state_len, action_len,\n",
    "                 gamma=.9, alpha=.5, num_drifts=3, p=.01,\n",
    "                 info_rate=1./30., dt=1./30./10., dur=1./30./10.,\n",
    "                 dtype=np.float32):\n",
    "        # save the vars\n",
    "        self._dtype = dtype\n",
    "        self._state_len = state_len\n",
    "        self._action_len = action_len\n",
    "        self._info_rate = info_rate\n",
    "        self._dt = dt\n",
    "        self._dur = dur\n",
    "        self._delay = info_rate - dt\n",
    "        self._p = p\n",
    "        self._num_drifts = num_drifts\n",
    "\n",
    "        self._gamma = gamma\n",
    "        self._alpha = alpha\n",
    "\n",
    "        self.history = None\n",
    "\n",
    "        self._actions = torch.eye(action_len).type(FloatTensor)\n",
    "        # init sith\n",
    "        self._in_sith = state_len + action_len\n",
    "        self._sith = SITH(self._in_sith, dt=self._dt, tau_0=self._info_rate, ntau=25, dtype=self._dtype, use_cuda=use_cuda)\n",
    "        self._p0 = torch.zeros((self._state_len, 1)).type(FloatTensor)\n",
    "\n",
    "        # allocate for M\n",
    "        self._in_M = self._sith.T.size()[0]\n",
    "        self._M = torch.zeros((self._state_len, self._in_M)).type(FloatTensor) # (outM, inM)\n",
    "\n",
    "    def reset_T(self):\n",
    "        self._sith.reset()\n",
    "        self._p0 = torch.zeros((self._state_len, 1)).type(FloatTensor)\n",
    "\n",
    "    def add_memory(self, reward):\n",
    "        curr_history = torch.cat((self._sith.T.view(-1).unsqueeze(0),\n",
    "                                  FloatTensor([reward]).unsqueeze(0)),\n",
    "                                 1)\n",
    "        if self.history is None:\n",
    "            self.history = curr_history\n",
    "        else:\n",
    "            self.history = torch.cat((self.history, curr_history), 0)\n",
    "            \n",
    "    def pick_action(self, state):\n",
    "        \n",
    "        # Compress Histories (WHY DO I HAVE TO SUBTRACT 1 FROM THE SIZE OF TAUSTAR?????)\n",
    "        ch = self.history[:, :-1].clone().view(self.history.size(0), \n",
    "                                                self._sith.tau_star[self._sith._T_full_ind].size-1, \n",
    "                                                self._in_sith).sum(1)[:, :-1*self._action_len]/5.\n",
    "\n",
    "        # Save our rewards for later\n",
    "        rewards = self.history[:,-1]\n",
    "        pot_action_rewards = None\n",
    "        \n",
    "        # Save t\n",
    "        save_t = self._sith._t.clone()\n",
    "        \n",
    "        # Loop over actions\n",
    "        for a in self._actions:\n",
    "            \n",
    "            # Input new state+action into SITH\n",
    "            sa = torch.cat((state, a), 0)\n",
    "            self._sith.update_t(sa*self._dt, dur=self._dur)\n",
    "            self._sith.update_t(item=None, dur=self._delay)\n",
    "            \n",
    "            # Predict next states with sa, Sp\n",
    "            Sp = self._M.mm(self._sith.T.view(-1, 1)).view(1, -1).expand_as(ch)\n",
    "\n",
    "            # subtract histories from Sp, creating a matrix of (histories, prediction errors)\n",
    "            pe = Sp - (ch)\n",
    "            # Sum all the positive prediction error and negative predition error\n",
    "            w = 1./(1.+((self._p*(pe*(pe>0).type(FloatTensor))).sum(1) + (self._p - 1.)*(pe*(pe<0).type(FloatTensor)).sum(1)))\n",
    "\n",
    "            # Multiply w by the reward and sum all values together. Add to the list of potential action rewards\n",
    "            if pot_action_rewards is None:\n",
    "                #pot_action_rewards = (w * rewards).sum(0).unsqueeze(0)\n",
    "                pot_action_rewards = (w * rewards).max(0)[0].unsqueeze(0)\n",
    "            else:\n",
    "                pot_action_rewards = torch.cat((pot_action_rewards, \n",
    "                                                (w * rewards).max(0)[0].unsqueeze(0)), \n",
    "                                               0)\n",
    "            # return back to previous t\n",
    "            self._sith._t = save_t\n",
    "            self._sith._t_changed = True\n",
    "        #print(pot_action_rewards)\n",
    "        action_index = pot_action_rewards.max(0)[1]\n",
    "\n",
    "        return action_index\n",
    "    \n",
    "    def update_T(self, state, action=None):\n",
    "        if action is None:\n",
    "            sa1 = torch.cat((state, torch.zeros((self._action_len))), 0).unsqueeze(1)\n",
    "        else:\n",
    "            sa1 = torch.cat((state, self._actions[action].view(-1)), 0).unsqueeze(1)\n",
    "\n",
    "        # update T with that state action\n",
    "        self._sith.update_t(item=sa1.view(-1)*self._dt, dur=self._dur)\n",
    "        self._sith.update_t(item=None, dur=self._delay)\n",
    "        \n",
    "    def learn_step(self, state, action):\n",
    "        # turn into new sa1\n",
    "        sa1 = torch.cat((state, self._actions[action].view(-1)), 0).unsqueeze(1)\n",
    "        sa1_p = torch.cat((sa1, torch.zeros((self._sith.T.size(0) - sa1.size(0), 1)).type(FloatTensor)), 0)\n",
    "        \n",
    "        # calc prediction from new state\n",
    "        p1 = self._M.mm(sa1_p)\n",
    "        \n",
    "        # update M based on prediction error\n",
    "        perr = state.unsqueeze(1) + self._gamma * p1 - self._p0\n",
    "        \n",
    "        #perr = state.unsqueeze(1) - self._p0\n",
    "        \n",
    "        self._M += self._alpha * perr.mm(self._sith.T.unsqueeze(1).t())\n",
    "\n",
    "        # prepare for next loop\n",
    "        self._p0 = p1\n"
   ]
  },
  {
   "cell_type": "code",
   "execution_count": 765,
   "metadata": {
    "collapsed": true
   },
   "outputs": [],
   "source": [
    "# global params\n",
    "height = 10\n",
    "width=10\n",
    "num_actions = 3\n",
    "input_size = width * height\n",
    "\n",
    "# how many games to train on every frame\n",
    "games_per_frame = 10\n",
    "\n",
    "masks = [0] #[0, 1, 2, 4, 8, 12, 16]\n",
    "\n",
    "q_sizes = {'RL':[1]}\n",
    "           #'queue': [1, 5, 10]}\n",
    "mod_type = [\"RL\"]\n",
    "num_runs = 1\n",
    "model = SithSR(state_len=input_size, action_len=num_actions, p=.01, alpha=.01, gamma=.9)"
   ]
  },
  {
   "cell_type": "code",
   "execution_count": 766,
   "metadata": {
    "collapsed": true
   },
   "outputs": [],
   "source": [
    "run_base = 'catch_long_lr'\n",
    "#run_base = 'catch_MSE'\n",
    "num_games =5000\n",
    "training_num =5000\n",
    "hidden_size = input_size * 1\n",
    "per_random_act = .1\n",
    "# set up the catch environment\n",
    "c = Catch(screen_height=height, screen_width=width,\n",
    "          game_over_conditions = {'ball_deletions': 1},\n",
    "          mask=0, ball_spawn_rate=100000, basket_len=3)"
   ]
  },
  {
   "cell_type": "code",
   "execution_count": null,
   "metadata": {
    "collapsed": true
   },
   "outputs": [],
   "source": []
  },
  {
   "cell_type": "code",
   "execution_count": 768,
   "metadata": {
    "scrolled": true
   },
   "outputs": [],
   "source": [
    "tot_score = 0.0\n",
    "\n",
    "# train over total epochs\n",
    "for e in range(num_games):\n",
    "    c.reset()\n",
    "    model.reset_T()\n",
    "    game_over = False\n",
    "    # get initial input\n",
    "    input_t = Tensor(c.observe(flatten=True))\n",
    "    i = 0\n",
    "    #iterate over each game\n",
    "    while not game_over:\n",
    "    #while i < 100:\n",
    "        i = i + 1\n",
    "        # t_-1 is the previous observation\n",
    "        input_tm1 = input_t.clone()\n",
    "\n",
    "\n",
    "        # Randomly pick an action, or use the\n",
    "        # Previously calculated action\n",
    "        #if (np.random.rand() <= per_random_act) or (model.history is None):\n",
    "        if (e < training_num):\n",
    "            action = (torch.rand(1) * (num_actions)).type(LongTensor)\n",
    "        else:\n",
    "            action = model.pick_action(input_tm1)\n",
    "        \"\"\"print((i % 20) < 10, i%20)\n",
    "        if (i % 20) < 10:\n",
    "            action = 0\n",
    "        else:\n",
    "            action = 2\"\"\"\n",
    "        # apply action, get rewards and new state\n",
    "        reward, timestep, game_over = c.act(action.cpu().numpy()[0]-1)\n",
    "        #reward, timestep, game_over = c.act(action-1)\n",
    "        # t_0, current timestep\n",
    "        input_t = Tensor(c.observe(flatten=True))\n",
    "\n",
    "        # store experience\n",
    "        model.learn_step(state=input_tm1, action=action.cpu().numpy()[0])\n",
    "        model.update_T(state=input_tm1, action=action.cpu().numpy()[0])\n",
    "        \n",
    "        if reward != 0:\n",
    "            save_t = model._sith._t.clone()\n",
    "            model.update_T(state=input_t)\n",
    "            model.add_memory(reward)\n",
    "            if e > training_num:\n",
    "                tot_score += reward\n",
    "                print(e, \": \", tot_score)\n",
    "            model._sith._t = save_t.clone()\n",
    "            model._sith._t_changed = True\n",
    "            \n",
    "    # Reset Game and Model Queue when the game is over.\n",
    "    "
   ]
  },
  {
   "cell_type": "code",
   "execution_count": 769,
   "metadata": {
    "scrolled": false
   },
   "outputs": [
    {
     "data": {
      "text/plain": [
       "<matplotlib.colorbar.Colorbar at 0x13baee630>"
      ]
     },
     "execution_count": 769,
     "metadata": {},
     "output_type": "execute_result"
    },
    {
     "data": {
      "image/png": "[encoded data removed]",
      "text/plain": [
       "<matplotlib.figure.Figure at 0x13baee390>"
      ]
     },
     "metadata": {},
     "output_type": "display_data"
    }
   ],
   "source": [
    "matshow(model._M.cpu().numpy())\n",
    "colorbar()\n"
   ]
  },
  {
   "cell_type": "code",
   "execution_count": 605,
   "metadata": {
    "scrolled": true
   },
   "outputs": [
    {
     "data": {
      "text/plain": [
       "<matplotlib.image.AxesImage at 0x1289f2240>"
      ]
     },
     "execution_count": 605,
     "metadata": {},
     "output_type": "execute_result"
    },
    {
     "data": {
      "image/png": "[encoded data removed]",
      "text/plain": [
       "<matplotlib.figure.Figure at 0x12d1f44e0>"
      ]
     },
     "metadata": {},
     "output_type": "display_data"
    }
   ],
   "source": [
    "matshow(model.history[13:14, :100].view(10,10).numpy())\n"
   ]
  },
  {
   "cell_type": "code",
   "execution_count": 771,
   "metadata": {},
   "outputs": [
    {
     "data": {
      "text/plain": [
       "<matplotlib.image.AxesImage at 0x13829a898>"
      ]
     },
     "execution_count": 771,
     "metadata": {},
     "output_type": "execute_result"
    },
    {
     "data": {
      "image/png": "[encoded data removed]",
      "text/plain": [
       "<matplotlib.figure.Figure at 0x132437320>"
      ]
     },
     "metadata": {},
     "output_type": "display_data"
    }
   ],
   "source": [
    "c.reset()\n",
    "model.reset_T()\n",
    "input_t = Tensor(c.observe(flatten=True))\n",
    "matshow(input_t.view(10,10).numpy())"
   ]
  },
  {
   "cell_type": "code",
   "execution_count": 772,
   "metadata": {},
   "outputs": [
    {
     "name": "stdout",
     "output_type": "stream",
     "text": [
      "[1]\n"
     ]
    },
    {
     "data": {
      "text/plain": [
       "<matplotlib.image.AxesImage at 0x138550198>"
      ]
     },
     "execution_count": 772,
     "metadata": {},
     "output_type": "execute_result"
    },
    {
     "data": {
      "image/png": "[encoded data removed]",
      "text/plain": [
       "<matplotlib.figure.Figure at 0x13bb6c3c8>"
      ]
     },
     "metadata": {},
     "output_type": "display_data"
    }
   ],
   "source": [
    " # t_-1 is the previous observation\n",
    "input_tm1 = input_t.clone()\n",
    "\n",
    "\n",
    "# Randomly pick an action, or use the\n",
    "# Previously calculated action\n",
    "#if (np.random.rand() <= per_random_act) or (model.history is None):\n",
    "\n",
    "action = model.pick_action(input_tm1)\n",
    "\n",
    "# apply action, get rewards and new state\n",
    "reward, timestep, game_over = c.act(action.cpu().numpy()[0]-1)\n",
    "\n",
    "# t_0, current timestep\n",
    "input_t = Tensor(c.observe(flatten=True))\n",
    "\n",
    "# store experience\n",
    "model.learn_step(state=input_tm1, action=action.cpu().numpy()[0])\n",
    "model.update_T(state=input_tm1, action=action.cpu().numpy()[0])\n",
    "print(action.cpu().numpy())\n",
    "if reward != 0:\n",
    "    #save_t = model._sith._t.clone()\n",
    "    #model.update_T(state=input_t)\n",
    "    #model.add_memory(reward)\n",
    "    tot_score += reward\n",
    "    print(e, \": \", tot_score, reward)\n",
    "    #model._sith._t = save_t.clone()\n",
    "    #model._sith._t_changed = True\n",
    "matshow(model._sith.T[:100].view(10,10).numpy())"
   ]
  },
  {
   "cell_type": "code",
   "execution_count": 576,
   "metadata": {},
   "outputs": [
    {
     "data": {
      "text/plain": [
       "<matplotlib.image.AxesImage at 0x12d6f99e8>"
      ]
     },
     "execution_count": 576,
     "metadata": {},
     "output_type": "execute_result"
    },
    {
     "data": {
      "image/png": "[encoded data removed]",
      "text/plain": [
       "<matplotlib.figure.Figure at 0x12dfa9eb8>"
      ]
     },
     "metadata": {},
     "output_type": "display_data"
    }
   ],
   "source": [
    "matshow(input_t.view(10,10).numpy())"
   ]
  },
  {
   "cell_type": "code",
   "execution_count": 773,
   "metadata": {},
   "outputs": [
    {
     "name": "stdout",
     "output_type": "stream",
     "text": [
      "(\n",
      " 0.8237\n",
      "[torch.FloatTensor of size 1]\n",
      ", \n",
      " 37\n",
      "[torch.LongTensor of size 1]\n",
      ")\n",
      "(\n",
      " 0.8436\n",
      "[torch.FloatTensor of size 1]\n",
      ", \n",
      " 179\n",
      "[torch.LongTensor of size 1]\n",
      ")\n",
      "(\n",
      " 0.8432\n",
      "[torch.FloatTensor of size 1]\n",
      ", \n",
      " 179\n",
      "[torch.LongTensor of size 1]\n",
      ")\n",
      "\n",
      " 0.8237\n",
      " 0.8436\n",
      " 0.8432\n",
      "[torch.FloatTensor of size 3x1]\n",
      "\n",
      "\n",
      " 1\n",
      "[torch.LongTensor of size 1]\n",
      "\n"
     ]
    },
    {
     "data": {
      "image/png": "[encoded data removed]",
      "text/plain": [
       "<matplotlib.figure.Figure at 0x1383cb710>"
      ]
     },
     "metadata": {},
     "output_type": "display_data"
    },
    {
     "data": {
      "image/png": "[encoded data removed]",
      "text/plain": [
       "<matplotlib.figure.Figure at 0x1385b46a0>"
      ]
     },
     "metadata": {},
     "output_type": "display_data"
    },
    {
     "data": {
      "image/png": "[encoded data removed]",
      "text/plain": [
       "<matplotlib.figure.Figure at 0x13a3c7da0>"
      ]
     },
     "metadata": {},
     "output_type": "display_data"
    },
    {
     "data": {
      "image/png": "[encoded data removed]",
      "text/plain": [
       "<matplotlib.figure.Figure at 0x13a45bf28>"
      ]
     },
     "metadata": {},
     "output_type": "display_data"
    },
    {
     "data": {
      "image/png": "[encoded data removed]",
      "text/plain": [
       "<matplotlib.figure.Figure at 0x13a574a58>"
      ]
     },
     "metadata": {},
     "output_type": "display_data"
    },
    {
     "data": {
      "image/png": "[encoded data removed]",
      "text/plain": [
       "<matplotlib.figure.Figure at 0x13a61a668>"
      ]
     },
     "metadata": {},
     "output_type": "display_data"
    },
    {
     "data": {
      "image/png": "[encoded data removed]",
      "text/plain": [
       "<matplotlib.figure.Figure at 0x13a773198>"
      ]
     },
     "metadata": {},
     "output_type": "display_data"
    }
   ],
   "source": [
    "model._p = .01\n",
    "matshow(input_t.view(10,10).numpy())\n",
    "state = input_t.clone()\n",
    "# Compress Histories (WHY DO I HAVE TO SUBTRACT 1 FROM THE SIZE OF TAUSTAR?????)\n",
    "ch = model.history[:, :-1].clone().view(model.history.size(0), \n",
    "                                        model._sith.tau_star[model._sith._T_full_ind].size-1, \n",
    "                                        model._in_sith).sum(1)[:, :-1*model._action_len]\n",
    "\n",
    "# Save our rards for later\n",
    "rewards = model.history[:,-1]\n",
    "pot_action_rewards = None\n",
    "\n",
    "# Save t\n",
    "save_t = model._sith._t.clone()\n",
    "sss = None\n",
    "ssb = None\n",
    "ssc = None\n",
    "# Loop over actions\n",
    "for a in model._actions:\n",
    "\n",
    "    # Input new state+action into SITH\n",
    "    sa = torch.cat((state, a), 0)\n",
    "    model._sith.update_t(sa*model._dt, dur=model._dur)\n",
    "    model._sith.update_t(item=None, dur=model._delay)\n",
    "    \n",
    "    # Predict next states with sa, Sp\n",
    "    if sss is None:\n",
    "        sss = model._M.mm(model._sith.T.view(-1, 1)).view(10,10).numpy()\n",
    "    elif ssb is None:\n",
    "        ssb = model._M.mm(model._sith.T.view(-1, 1)).view(10,10).numpy()\n",
    "    else:\n",
    "        ssc = model._M.mm(model._sith.T.view(-1, 1)).view(10,10).numpy()\n",
    "    matshow(model._M.mm(model._sith.T.view(-1, 1)).view(10,10).numpy())\n",
    "    colorbar()\n",
    "    Sp = model._M.mm(model._sith.T.view(-1, 1)).view(1, -1).expand_as(ch)\n",
    "\n",
    "    # subtract histories from Sp, creating a matrix of (histories, prediction errors)\n",
    "    pe = Sp - (ch)\n",
    "    # Sum all the positive prediction error and negative predition error\n",
    "    w = 1./(1.+((model._p*(pe*(pe>0).type(FloatTensor))).sum(1) + (model._p - 1.)*(pe*(pe<0).type(FloatTensor)).sum(1)))\n",
    "    # Multiply w by the reward and sum all values together. Add to the list of potential action rewards\n",
    "    print((w*rewards).max(0))\n",
    "    matshow(ch[(w*rewards).max(0)[1]].view(10,10).numpy())\n",
    "    colorbar()\n",
    "    if pot_action_rewards is None:\n",
    "        #pot_action_rewards = (w * rewards).sum(0).unsqueeze(0)\n",
    "        pot_action_rewards = (w * rewards).max(0)[0].unsqueeze(0)\n",
    "    else:\n",
    "        pot_action_rewards = torch.cat((pot_action_rewards, \n",
    "                                        (w * rewards).max(0)[0].unsqueeze(0)), \n",
    "                                       0)\n",
    "    # return back to previous t\n",
    "    model._sith._t = save_t\n",
    "    model._sith._t_changed = True\n",
    "print(pot_action_rewards)\n",
    "action_index = pot_action_rewards.max(0)[1]\n",
    "\n",
    "print(action_index)"
   ]
  },
  {
   "cell_type": "code",
   "execution_count": 554,
   "metadata": {},
   "outputs": [
    {
     "data": {
      "text/plain": [
       "<matplotlib.colorbar.Colorbar at 0x12bdc6fd0>"
      ]
     },
     "execution_count": 554,
     "metadata": {},
     "output_type": "execute_result"
    },
    {
     "data": {
      "image/png": "[encoded data removed]",
      "text/plain": [
       "<matplotlib.figure.Figure at 0x12bfa7e80>"
      ]
     },
     "metadata": {},
     "output_type": "display_data"
    }
   ],
   "source": [
    "matshow(sss - ssc)\n",
    "colorbar()"
   ]
  },
  {
   "cell_type": "code",
   "execution_count": 774,
   "metadata": {},
   "outputs": [
    {
     "data": {
      "text/plain": [
       "<matplotlib.text.Text at 0x13c8ff6a0>"
      ]
     },
     "execution_count": 774,
     "metadata": {},
     "output_type": "execute_result"
    },
    {
     "data": {
      "image/png": "[encoded data removed]",
      "text/plain": [
       "<matplotlib.figure.Figure at 0x1384b79b0>"
      ]
     },
     "metadata": {},
     "output_type": "display_data"
    }
   ],
   "source": [
    "plt.close('all')\n",
    "fig, ((ax1, ax2), (ax3, ax4)) = plt.subplots(nrows=2, ncols=2, figsize=(10,10))\n",
    "tt = ax1.matshow(input_t.view(10,10).numpy())\n",
    "climMax = max(sss.max(), ssc.max())\n",
    "climMin = min(sss.min(), ssc.min())\n",
    "\n",
    "t1 = ax2.matshow(sss, clim=(climMin, climMax))\n",
    "fig.colorbar(t1,ax= ax2)\n",
    "ax2.set_title(\"LEFT\")\n",
    "t2 = ax3.matshow(ssc, clim=(climMin, climMax))\n",
    "fig.colorbar(t2, ax=ax3)\n",
    "\n",
    "ax3.set_title(\"RIGHT\")\n",
    "\n",
    "t3 = ax4.matshow(sss-ssc)\n",
    "fig.colorbar(t3, ax=ax4)\n",
    "\n",
    "ax4.set_title(\"DIFF\")\n"
   ]
  },
  {
   "cell_type": "code",
   "execution_count": 1772,
   "metadata": {
    "collapsed": true
   },
   "outputs": [],
   "source": [
    "t_save = model._sith._t.clone()"
   ]
  },
  {
   "cell_type": "code",
   "execution_count": 1773,
   "metadata": {
    "collapsed": true
   },
   "outputs": [],
   "source": [
    "sa = torch.cat((input_tm1, actions[2]), 0)\n",
    "model._sith.update_t(sa*model._dt, dur=model._dur)\n",
    "model._sith.update_t(item=None, dur=model._delay)\n"
   ]
  },
  {
   "cell_type": "code",
   "execution_count": 1774,
   "metadata": {},
   "outputs": [
    {
     "data": {
      "text/plain": [
       "<matplotlib.colorbar.Colorbar at 0x7f137f975080>"
      ]
     },
     "execution_count": 1774,
     "metadata": {},
     "output_type": "execute_result"
    },
    {
     "data": {
      "image/png": "[encoded data removed]",
      "text/plain": [
       "<matplotlib.figure.Figure at 0x7f137fca0cc0>"
      ]
     },
     "metadata": {},
     "output_type": "display_data"
    }
   ],
   "source": [
    "matshow(model._M.mm(model._sith.T.view(-1, 1)).view(1, -1).view(10,10).cpu().numpy())\n",
    "colorbar()"
   ]
  },
  {
   "cell_type": "code",
   "execution_count": 1771,
   "metadata": {
    "collapsed": true
   },
   "outputs": [],
   "source": [
    "model._sith._t = t_save.clone()\n",
    "model._sith._t_changed = True"
   ]
  },
  {
   "cell_type": "code",
   "execution_count": 1770,
   "metadata": {
    "collapsed": true
   },
   "outputs": [],
   "source": [
    "left = model._M.mm(model._sith.T.view(-1, 1)).view(1, -1).view(10,10).cpu().numpy()\n"
   ]
  },
  {
   "cell_type": "code",
   "execution_count": 1775,
   "metadata": {
    "collapsed": true
   },
   "outputs": [],
   "source": [
    "right = model._M.mm(model._sith.T.view(-1, 1)).view(1, -1).view(10,10).cpu().numpy()"
   ]
  },
  {
   "cell_type": "code",
   "execution_count": 1778,
   "metadata": {},
   "outputs": [
    {
     "data": {
      "text/plain": [
       "<matplotlib.colorbar.Colorbar at 0x7f137f7cdc50>"
      ]
     },
     "execution_count": 1778,
     "metadata": {},
     "output_type": "execute_result"
    },
    {
     "data": {
      "image/png": "[encoded data removed]",
      "text/plain": [
       "<matplotlib.figure.Figure at 0x7f137f7cdcf8>"
      ]
     },
     "metadata": {},
     "output_type": "display_data"
    }
   ],
   "source": [
    "matshow(left - right)\n",
    "colorbar()"
   ]
  },
  {
   "cell_type": "code",
   "execution_count": 1779,
   "metadata": {},
   "outputs": [
    {
     "data": {
      "text/plain": [
       "<matplotlib.colorbar.Colorbar at 0x7f137f6c9080>"
      ]
     },
     "execution_count": 1779,
     "metadata": {},
     "output_type": "execute_result"
    },
    {
     "data": {
      "image/png": "[encoded data removed]",
      "text/plain": [
       "<matplotlib.figure.Figure at 0x7f137f6c90f0>"
      ]
     },
     "metadata": {},
     "output_type": "display_data"
    }
   ],
   "source": [
    "matshow(left)\n",
    "colorbar()"
   ]
  },
  {
   "cell_type": "code",
   "execution_count": 1780,
   "metadata": {},
   "outputs": [
    {
     "data": {
      "text/plain": [
       "<matplotlib.colorbar.Colorbar at 0x7f137f65b1d0>"
      ]
     },
     "execution_count": 1780,
     "metadata": {},
     "output_type": "execute_result"
    },
    {
     "data": {
      "image/png": "[encoded data removed]",
      "text/plain": [
       "<matplotlib.figure.Figure at 0x7f137f65b048>"
      ]
     },
     "metadata": {},
     "output_type": "display_data"
    }
   ],
   "source": [
    "matshow(right)\n",
    "colorbar()"
   ]
  },
  {
   "cell_type": "code",
   "execution_count": 205,
   "metadata": {
    "collapsed": true
   },
   "outputs": [],
   "source": [
    "sith.update_t(item=sa1.view(-1), dur=1./30./10.)\n",
    "sith.update_t(item=None, dur=(1./30.) - (1./30./10.))"
   ]
  },
  {
   "cell_type": "code",
   "execution_count": 206,
   "metadata": {
    "collapsed": true
   },
   "outputs": [],
   "source": [
    "reward, timestep, game_over = c.act(-1)"
   ]
  },
  {
   "cell_type": "code",
   "execution_count": 207,
   "metadata": {},
   "outputs": [
    {
     "data": {
      "text/plain": [
       "<matplotlib.colorbar.Colorbar at 0x7f6968484630>"
      ]
     },
     "execution_count": 207,
     "metadata": {},
     "output_type": "execute_result"
    },
    {
     "data": {
      "image/png": "[encoded data removed]",
      "text/plain": [
       "<matplotlib.figure.Figure at 0x7f69685b20f0>"
      ]
     },
     "metadata": {},
     "output_type": "display_data"
    }
   ],
   "source": [
    "matshow(sith.T[0:100].view(10,10).cpu().numpy())\n",
    "colorbar()"
   ]
  },
  {
   "cell_type": "code",
   "execution_count": 208,
   "metadata": {},
   "outputs": [
    {
     "data": {
      "text/plain": [
       "<matplotlib.colorbar.Colorbar at 0x7f696832ffd0>"
      ]
     },
     "execution_count": 208,
     "metadata": {},
     "output_type": "execute_result"
    },
    {
     "data": {
      "image/png": "[encoded data removed]",
      "text/plain": [
       "<matplotlib.figure.Figure at 0x7f6968354080>"
      ]
     },
     "metadata": {},
     "output_type": "display_data"
    }
   ],
   "source": [
    "matshow(sith.T[103:203].view(10,10).cpu().numpy())\n",
    "colorbar()"
   ]
  },
  {
   "cell_type": "code",
   "execution_count": 178,
   "metadata": {},
   "outputs": [
    {
     "data": {
      "text/plain": [
       "<matplotlib.colorbar.Colorbar at 0x7f6968de1b70>"
      ]
     },
     "execution_count": 178,
     "metadata": {},
     "output_type": "execute_result"
    },
    {
     "data": {
      "image/png": "[encoded data removed]",
      "text/plain": [
       "<matplotlib.figure.Figure at 0x7f6968ab7400>"
      ]
     },
     "metadata": {},
     "output_type": "display_data"
    }
   ],
   "source": [
    "matshow(sith.T[206:306].view(10,10).cpu().numpy())\n",
    "colorbar()"
   ]
  },
  {
   "cell_type": "code",
   "execution_count": 179,
   "metadata": {},
   "outputs": [
    {
     "data": {
      "text/plain": [
       "<matplotlib.colorbar.Colorbar at 0x7f6968868128>"
      ]
     },
     "execution_count": 179,
     "metadata": {},
     "output_type": "execute_result"
    },
    {
     "data": {
      "image/png": "[encoded data removed]",
      "text/plain": [
       "<matplotlib.figure.Figure at 0x7f6968aaf9b0>"
      ]
     },
     "metadata": {},
     "output_type": "display_data"
    }
   ],
   "source": [
    "matshow(sith.T[309:409].view(10,10).cpu().numpy())\n",
    "colorbar()"
   ]
  },
  {
   "cell_type": "code",
   "execution_count": null,
   "metadata": {
    "collapsed": true
   },
   "outputs": [],
   "source": []
  },
  {
   "cell_type": "code",
   "execution_count": null,
   "metadata": {
    "collapsed": true
   },
   "outputs": [],
   "source": []
  },
  {
   "cell_type": "code",
   "execution_count": 180,
   "metadata": {
    "collapsed": true
   },
   "outputs": [],
   "source": [
    "c.reset()"
   ]
  },
  {
   "cell_type": "code",
   "execution_count": 515,
   "metadata": {
    "collapsed": true
   },
   "outputs": [],
   "source": [
    "sith = SITH(103, dt=1./30./10., ntau=25, tau_0=1/30., dtype=np.float32, use_cuda=use_cuda)\n"
   ]
  },
  {
   "cell_type": "code",
   "execution_count": 519,
   "metadata": {},
   "outputs": [
    {
     "data": {
      "text/plain": [
       "515"
      ]
     },
     "execution_count": 519,
     "metadata": {},
     "output_type": "execute_result"
    }
   ],
   "source": []
  },
  {
   "cell_type": "code",
   "execution_count": 40,
   "metadata": {
    "collapsed": true
   },
   "outputs": [],
   "source": [
    "testing = torch.eye(5).type(FloatTensor)"
   ]
  },
  {
   "cell_type": "code",
   "execution_count": 41,
   "metadata": {
    "collapsed": true
   },
   "outputs": [],
   "source": [
    "model = SithSR(state_len=5, action_len=1)"
   ]
  },
  {
   "cell_type": "code",
   "execution_count": 72,
   "metadata": {
    "collapsed": true
   },
   "outputs": [],
   "source": [
    "model.learn_step(testing[4], 0)"
   ]
  },
  {
   "cell_type": "code",
   "execution_count": 67,
   "metadata": {
    "scrolled": true
   },
   "outputs": [
    {
     "data": {
      "text/plain": [
       "\n",
       " 23.5166\n",
       "  0.0091\n",
       "  0.1207\n",
       "  1.3464\n",
       " 10.1742\n",
       " 35.1670\n",
       "  4.3522\n",
       "  2.3697\n",
       "  5.4488\n",
       "  9.8690\n",
       " 11.2486\n",
       " 33.2884\n",
       "  5.9313\n",
       "  6.7224\n",
       "  7.0543\n",
       "  6.5078\n",
       "  5.4633\n",
       " 31.6792\n",
       "  3.9863\n",
       "  3.5588\n",
       "  3.0496\n",
       "  2.5119\n",
       "  2.0013\n",
       " 15.1064\n",
       "  0.6671\n",
       "  0.5180\n",
       "  0.3874\n",
       "  0.2776\n",
       "  0.1892\n",
       "  2.0391\n",
       "[torch.FloatTensor of size 30]"
      ]
     },
     "execution_count": 67,
     "metadata": {},
     "output_type": "execute_result"
    }
   ],
   "source": [
    "model._sith.T"
   ]
  },
  {
   "cell_type": "code",
   "execution_count": 521,
   "metadata": {},
   "outputs": [
    {
     "ename": "RuntimeError",
     "evalue": "invalid argument 2: input is not contiguous at /opt/conda/conda-bld/pytorch_1512387374934/work/torch/lib/THC/generic/THCTensor.c:227",
     "output_type": "error",
     "traceback": [
      "\u001b[0;31m---------------------------------------------------------------------------\u001b[0m",
      "\u001b[0;31mRuntimeError\u001b[0m                              Traceback (most recent call last)",
      "\u001b[0;32m<ipython-input-521-3c67e1704d6e>\u001b[0m in \u001b[0;36m<module>\u001b[0;34m()\u001b[0m\n\u001b[0;32m----> 1\u001b[0;31m \u001b[0mmodel\u001b[0m\u001b[0;34m.\u001b[0m\u001b[0mhistory\u001b[0m\u001b[0;34m[\u001b[0m\u001b[0;34m:\u001b[0m\u001b[0;34m,\u001b[0m \u001b[0;34m:\u001b[0m\u001b[0;34m-\u001b[0m\u001b[0;36m1\u001b[0m\u001b[0;34m]\u001b[0m\u001b[0;34m.\u001b[0m\u001b[0mview\u001b[0m\u001b[0;34m(\u001b[0m\u001b[0mmodel\u001b[0m\u001b[0;34m.\u001b[0m\u001b[0mhistory\u001b[0m\u001b[0;34m.\u001b[0m\u001b[0msize\u001b[0m\u001b[0;34m(\u001b[0m\u001b[0;36m0\u001b[0m\u001b[0;34m)\u001b[0m\u001b[0;34m,\u001b[0m \u001b[0mmodel\u001b[0m\u001b[0;34m.\u001b[0m\u001b[0m_sith\u001b[0m\u001b[0;34m.\u001b[0m\u001b[0mtau_star\u001b[0m\u001b[0;34m[\u001b[0m\u001b[0mmodel\u001b[0m\u001b[0;34m.\u001b[0m\u001b[0m_sith\u001b[0m\u001b[0;34m.\u001b[0m\u001b[0m_T_full_ind\u001b[0m\u001b[0;34m]\u001b[0m\u001b[0;34m.\u001b[0m\u001b[0msize\u001b[0m\u001b[0;34m,\u001b[0m \u001b[0mmodel\u001b[0m\u001b[0;34m.\u001b[0m\u001b[0m_in_sith\u001b[0m\u001b[0;34m)\u001b[0m\u001b[0;34m\u001b[0m\u001b[0m\n\u001b[0m",
      "\u001b[0;31mRuntimeError\u001b[0m: invalid argument 2: input is not contiguous at /opt/conda/conda-bld/pytorch_1512387374934/work/torch/lib/THC/generic/THCTensor.c:227"
     ]
    }
   ],
   "source": [
    "model.history[:, :-1].clone().view(model.history.size(0), model._sith.tau_star[model._sith._T_full_ind].size-1, model._in_sith)"
   ]
  },
  {
   "cell_type": "code",
   "execution_count": 535,
   "metadata": {
    "scrolled": true
   },
   "outputs": [
    {
     "data": {
      "text/plain": [
       "\n",
       "( 0 ,.,.) = \n",
       "  0.0000  0.0000  0.0000  ...   0.0784  0.0049  0.0339\n",
       "  0.0000  0.0000  0.0000  ...   0.0205  0.0506  0.0398\n",
       "  0.0000  0.0000  0.0000  ...   0.0383  0.0284  0.0310\n",
       "  0.0000  0.0000  0.0000  ...   0.0180  0.0032  0.0128\n",
       "  0.0000  0.0000  0.0000  ...   0.0020  0.0002  0.0013\n",
       "\n",
       "( 1 ,.,.) = \n",
       "  0.0000  0.0000  0.0000  ...   0.1123  0.0004  0.0045\n",
       "  0.0000  0.0000  0.0000  ...   0.0588  0.0191  0.0330\n",
       "  0.0000  0.0000  0.0000  ...   0.0395  0.0296  0.0287\n",
       "  0.0000  0.0000  0.0000  ...   0.0090  0.0086  0.0164\n",
       "  0.0000  0.0000  0.0000  ...   0.0006  0.0007  0.0021\n",
       "\n",
       "( 2 ,.,.) = \n",
       "  0.0000  0.0000  0.0000  ...   0.0049  0.1123  0.0000\n",
       "  0.0000  0.0000  0.0000  ...   0.0589  0.0480  0.0040\n",
       "  0.0000  0.0000  0.0000  ...   0.0629  0.0058  0.0291\n",
       "  0.0000  0.0000  0.0000  ...   0.0222  0.0003  0.0115\n",
       "  0.0000  0.0000  0.0000  ...   0.0024  0.0000  0.0010\n",
       "... \n",
       "\n",
       "( 7 ,.,.) = \n",
       "  0.0000  0.0000  0.0000  ...   0.0000  0.1172  0.0000\n",
       "  0.0000  0.0001  0.0000  ...   0.0031  0.1068  0.0010\n",
       "  0.0000  0.0070  0.0000  ...   0.0230  0.0617  0.0130\n",
       "  0.0000  0.0080  0.0000  ...   0.0131  0.0145  0.0064\n",
       "  0.0000  0.0012  0.0000  ...   0.0016  0.0013  0.0006\n",
       "\n",
       "( 8 ,.,.) = \n",
       "  0.0000  0.0000  0.0000  ...   0.0000  0.1172  0.0000\n",
       "  0.0000  0.0000  0.0000  ...   0.0000  0.1109  0.0000\n",
       "  0.0000  0.0000  0.0000  ...   0.0000  0.0977  0.0000\n",
       "  0.0000  0.0000  0.0000  ...   0.0000  0.0340  0.0000\n",
       "  0.0000  0.0000  0.0000  ...   0.0000  0.0035  0.0000\n",
       "\n",
       "( 9 ,.,.) = \n",
       "  0.0000  0.0000  0.0000  ...   0.1172  0.0000  0.0000\n",
       "  0.0000  0.0000  0.0000  ...   0.1098  0.0011  0.0000\n",
       "  0.0000  0.0000  0.0000  ...   0.0777  0.0200  0.0000\n",
       "  0.0000  0.0000  0.0000  ...   0.0196  0.0144  0.0000\n",
       "  0.0000  0.0000  0.0000  ...   0.0017  0.0018  0.0000\n",
       "[torch.cuda.FloatTensor of size 10x5x103 (GPU 0)]"
      ]
     },
     "execution_count": 535,
     "metadata": {},
     "output_type": "execute_result"
    }
   ],
   "source": [
    "model.history[:, :-1].clone().view(10, 5, 103)"
   ]
  },
  {
   "cell_type": "code",
   "execution_count": 540,
   "metadata": {},
   "outputs": [
    {
     "data": {
      "text/plain": [
       "18.165916631508708"
      ]
     },
     "execution_count": 540,
     "metadata": {},
     "output_type": "execute_result"
    }
   ],
   "source": [
    "sum(x for x in model.history[:, :-1].clone().view(-1) if x > 0)"
   ]
  },
  {
   "cell_type": "code",
   "execution_count": 552,
   "metadata": {
    "collapsed": true
   },
   "outputs": [],
   "source": [
    "a = model.history[:, :-1].clone()"
   ]
  },
  {
   "cell_type": "code",
   "execution_count": 557,
   "metadata": {},
   "outputs": [
    {
     "data": {
      "text/plain": [
       "\n",
       "1.00000e-10 *\n",
       " 0.0000  0.0000  0.0000  ...   0.0000  0.0000  0.0000\n",
       " 0.0000  0.0000  0.0000  ...   0.0000  0.0000  0.0000\n",
       " 0.0000  0.0000  0.0000  ...   0.0000  0.0000  0.0000\n",
       "          ...             ⋱             ...          \n",
       " 0.0000  5.8336  0.0000  ...   5.8336  5.8336  5.8336\n",
       " 0.0000  0.0000  0.0000  ...   0.0000  0.0000  0.0000\n",
       " 0.0000  0.0000  0.0000  ...   0.0000  0.0000  0.0000\n",
       "[torch.cuda.FloatTensor of size 10x515 (GPU 0)]"
      ]
     },
     "execution_count": 557,
     "metadata": {},
     "output_type": "execute_result"
    }
   ],
   "source": [
    "a.gather(1, (a>0).type(LongTensor))\n"
   ]
  },
  {
   "cell_type": "code",
   "execution_count": 562,
   "metadata": {
    "collapsed": true
   },
   "outputs": [],
   "source": [
    "ch = model.history[:, :-1].clone().view(model.history.size(0), \n",
    "                                                model._sith.tau_star[model._sith._T_full_ind].size-1, \n",
    "                                                model._in_sith).sum(1)[:, :-3]"
   ]
  },
  {
   "cell_type": "code",
   "execution_count": 593,
   "metadata": {
    "collapsed": true
   },
   "outputs": [],
   "source": [
    "Sp = model._M.mm(model._sith.T.view(-1, 1)).view(1, -1).expand_as(ch)\n",
    "\n",
    "# subtract histories from Sp, creating a matrix of (histories, prediction errors)\n",
    "pe = Sp - ch/5."
   ]
  },
  {
   "cell_type": "code",
   "execution_count": 594,
   "metadata": {},
   "outputs": [
    {
     "data": {
      "text/plain": [
       "<matplotlib.colorbar.Colorbar at 0x7fbbc24b0a20>"
      ]
     },
     "execution_count": 594,
     "metadata": {},
     "output_type": "execute_result"
    },
    {
     "data": {
      "image/png": "[encoded data removed]",
      "text/plain": [
       "<matplotlib.figure.Figure at 0x7fbbc1dca978>"
      ]
     },
     "metadata": {},
     "output_type": "display_data"
    }
   ],
   "source": [
    "matshow(pe.cpu().numpy())\n",
    "colorbar()"
   ]
  },
  {
   "cell_type": "code",
   "execution_count": 612,
   "metadata": {},
   "outputs": [
    {
     "ename": "ValueError",
     "evalue": "not enough values to unpack (expected 2, got 1)",
     "output_type": "error",
     "traceback": [
      "\u001b[0;31m---------------------------------------------------------------------------\u001b[0m",
      "\u001b[0;31mValueError\u001b[0m                                Traceback (most recent call last)",
      "\u001b[0;32m<ipython-input-612-66c72f6405c6>\u001b[0m in \u001b[0;36m<module>\u001b[0;34m()\u001b[0m\n\u001b[0;32m----> 1\u001b[0;31m \u001b[0mmatshow\u001b[0m\u001b[0;34m(\u001b[0m\u001b[0mpe\u001b[0m\u001b[0;34m[\u001b[0m\u001b[0;34m(\u001b[0m\u001b[0mpe\u001b[0m\u001b[0;34m>\u001b[0m\u001b[0;36m0\u001b[0m\u001b[0;34m)\u001b[0m\u001b[0;34m]\u001b[0m\u001b[0;34m.\u001b[0m\u001b[0mcpu\u001b[0m\u001b[0;34m(\u001b[0m\u001b[0;34m)\u001b[0m\u001b[0;34m.\u001b[0m\u001b[0mnumpy\u001b[0m\u001b[0;34m(\u001b[0m\u001b[0;34m)\u001b[0m\u001b[0;34m)\u001b[0m\u001b[0;34m\u001b[0m\u001b[0m\n\u001b[0m\u001b[1;32m      2\u001b[0m \u001b[0mcolorbar\u001b[0m\u001b[0;34m(\u001b[0m\u001b[0;34m)\u001b[0m\u001b[0;34m\u001b[0m\u001b[0m\n",
      "\u001b[0;32m~/bin/anaconda3/lib/python3.6/site-packages/matplotlib/pyplot.py\u001b[0m in \u001b[0;36mmatshow\u001b[0;34m(A, fignum, **kw)\u001b[0m\n\u001b[1;32m   2271\u001b[0m     \u001b[0;32melse\u001b[0m\u001b[0;34m:\u001b[0m\u001b[0;34m\u001b[0m\u001b[0m\n\u001b[1;32m   2272\u001b[0m         \u001b[0;31m# Extract actual aspect ratio of array and make appropriately sized figure\u001b[0m\u001b[0;34m\u001b[0m\u001b[0;34m\u001b[0m\u001b[0m\n\u001b[0;32m-> 2273\u001b[0;31m         \u001b[0mfig\u001b[0m \u001b[0;34m=\u001b[0m \u001b[0mfigure\u001b[0m\u001b[0;34m(\u001b[0m\u001b[0mfignum\u001b[0m\u001b[0;34m,\u001b[0m \u001b[0mfigsize\u001b[0m\u001b[0;34m=\u001b[0m\u001b[0mfigaspect\u001b[0m\u001b[0;34m(\u001b[0m\u001b[0mA\u001b[0m\u001b[0;34m)\u001b[0m\u001b[0;34m)\u001b[0m\u001b[0;34m\u001b[0m\u001b[0m\n\u001b[0m\u001b[1;32m   2274\u001b[0m         \u001b[0max\u001b[0m  \u001b[0;34m=\u001b[0m \u001b[0mfig\u001b[0m\u001b[0;34m.\u001b[0m\u001b[0madd_axes\u001b[0m\u001b[0;34m(\u001b[0m\u001b[0;34m[\u001b[0m\u001b[0;36m0.15\u001b[0m\u001b[0;34m,\u001b[0m \u001b[0;36m0.09\u001b[0m\u001b[0;34m,\u001b[0m \u001b[0;36m0.775\u001b[0m\u001b[0;34m,\u001b[0m \u001b[0;36m0.775\u001b[0m\u001b[0;34m]\u001b[0m\u001b[0;34m)\u001b[0m\u001b[0;34m\u001b[0m\u001b[0m\n\u001b[1;32m   2275\u001b[0m \u001b[0;34m\u001b[0m\u001b[0m\n",
      "\u001b[0;32m~/bin/anaconda3/lib/python3.6/site-packages/matplotlib/figure.py\u001b[0m in \u001b[0;36mfigaspect\u001b[0;34m(arg)\u001b[0m\n\u001b[1;32m   2046\u001b[0m     \u001b[0;31m# Extract the aspect ratio of the array\u001b[0m\u001b[0;34m\u001b[0m\u001b[0;34m\u001b[0m\u001b[0m\n\u001b[1;32m   2047\u001b[0m     \u001b[0;32mif\u001b[0m \u001b[0misarray\u001b[0m\u001b[0;34m:\u001b[0m\u001b[0;34m\u001b[0m\u001b[0m\n\u001b[0;32m-> 2048\u001b[0;31m         \u001b[0mnr\u001b[0m\u001b[0;34m,\u001b[0m \u001b[0mnc\u001b[0m \u001b[0;34m=\u001b[0m \u001b[0marg\u001b[0m\u001b[0;34m.\u001b[0m\u001b[0mshape\u001b[0m\u001b[0;34m[\u001b[0m\u001b[0;34m:\u001b[0m\u001b[0;36m2\u001b[0m\u001b[0;34m]\u001b[0m\u001b[0;34m\u001b[0m\u001b[0m\n\u001b[0m\u001b[1;32m   2049\u001b[0m         \u001b[0marr_ratio\u001b[0m \u001b[0;34m=\u001b[0m \u001b[0mfloat\u001b[0m\u001b[0;34m(\u001b[0m\u001b[0mnr\u001b[0m\u001b[0;34m)\u001b[0m \u001b[0;34m/\u001b[0m \u001b[0mnc\u001b[0m\u001b[0;34m\u001b[0m\u001b[0m\n\u001b[1;32m   2050\u001b[0m     \u001b[0;32melse\u001b[0m\u001b[0;34m:\u001b[0m\u001b[0;34m\u001b[0m\u001b[0m\n",
      "\u001b[0;31mValueError\u001b[0m: not enough values to unpack (expected 2, got 1)"
     ]
    }
   ],
   "source": [
    "matshow(pe[(pe>0)].cpu().numpy())\n",
    "colorbar()"
   ]
  },
  {
   "cell_type": "code",
   "execution_count": 650,
   "metadata": {},
   "outputs": [
    {
     "data": {
      "text/plain": [
       "\n",
       " 0.7419\n",
       " 0.6623\n",
       " 0.7501\n",
       " 0.7345\n",
       " 0.7529\n",
       " 0.6498\n",
       " 0.7215\n",
       " 0.6504\n",
       " 0.6480\n",
       " 0.7674\n",
       "[torch.cuda.FloatTensor of size 10 (GPU 0)]"
      ]
     },
     "execution_count": 650,
     "metadata": {},
     "output_type": "execute_result"
    }
   ],
   "source": [
    "\n",
    "1/(1+(p*(pe*(pe>0).type(FloatTensor)).sum(1) + (p - 1)*(pe*(pe<0).type(FloatTensor)).sum(1)))"
   ]
  },
  {
   "cell_type": "code",
   "execution_count": 652,
   "metadata": {},
   "outputs": [
    {
     "data": {
      "text/plain": [
       "\n",
       " 0.3479\n",
       " 0.5100\n",
       " 0.3332\n",
       " 0.3614\n",
       " 0.3282\n",
       " 0.5390\n",
       " 0.3859\n",
       " 0.5375\n",
       " 0.5431\n",
       " 0.3030\n",
       "[torch.cuda.FloatTensor of size 10 (GPU 0)]"
      ]
     },
     "execution_count": 652,
     "metadata": {},
     "output_type": "execute_result"
    }
   ],
   "source": [
    "p*(pe*(pe>0).type(FloatTensor)).sum(1) + (p - 1)*(pe*(pe<0).type(FloatTensor)).sum(1)"
   ]
  },
  {
   "cell_type": "code",
   "execution_count": null,
   "metadata": {
    "collapsed": true
   },
   "outputs": [],
   "source": []
  }
 ],
 "metadata": {
  "kernelspec": {
   "display_name": "Python 3",
   "language": "python",
   "name": "python3"
  },
  "language_info": {
   "codemirror_mode": {
    "name": "ipython",
    "version": 3
   },
   "file_extension": ".py",
   "mimetype": "text/x-python",
   "name": "python",
   "nbconvert_exporter": "python",
   "pygments_lexer": "ipython3",
   "version": "3.6.1"
  }
 },
 "nbformat": 4,
 "nbformat_minor": 2
}
