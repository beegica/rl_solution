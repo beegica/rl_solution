{
 "cells": [
  {
   "cell_type": "code",
   "execution_count": 1,
   "metadata": {},
   "outputs": [
    {
     "name": "stdout",
     "output_type": "stream",
     "text": [
      "Populating the interactive namespace from numpy and matplotlib\n"
     ]
    }
   ],
   "source": [
    "%pylab inline"
   ]
  },
  {
   "cell_type": "code",
   "execution_count": 2,
   "metadata": {},
   "outputs": [
    {
     "name": "stdout",
     "output_type": "stream",
     "text": [
      "False\n"
     ]
    }
   ],
   "source": [
    "import os\n",
    "from collections import namedtuple\n",
    "import numpy as np\n",
    "import pandas as pd\n",
    "import random\n",
    "\n",
    "import torch\n",
    "import torch.nn as nn\n",
    "import torch.nn.functional as F\n",
    "from torch.autograd import Variable\n",
    "import torch.optim as optim\n",
    "\n",
    "from catch import Catch\n",
    "\n",
    "from sith import SITH\n",
    "from memory_hash import HashedMemory\n",
    "\n",
    "# if gpu is to be used\n",
    "use_cuda = torch.cuda.is_available()\n",
    "FloatTensor = torch.cuda.FloatTensor if use_cuda else torch.FloatTensor\n",
    "IntTensor = torch.cuda.IntTensor if use_cuda else torch.IntTensor\n",
    "LongTensor = torch.cuda.LongTensor if use_cuda else torch.LongTensor\n",
    "ByteTensor = torch.cuda.ByteTensor if use_cuda else torch.ByteTensor\n",
    "Tensor = FloatTensor\n",
    "print(use_cuda)"
   ]
  },
  {
   "cell_type": "code",
   "execution_count": 97,
   "metadata": {
    "collapsed": true
   },
   "outputs": [],
   "source": [
    "\"\"\"\n",
    "Reinforcement learning without going too deep.\n",
    "\"\"\"\n",
    "\n",
    "class SithSR(object):\n",
    "    \"\"\"SITH-based Successor Representation\"\"\"\n",
    "    def __init__(self, state_len, action_len,\n",
    "                 gamma=.9, alpha=.5, num_drifts=3,\n",
    "                 info_rate=1./30., dt=1./30./10., dur=1./30./10.,\n",
    "                 dtype=np.float32):\n",
    "        # save the vars\n",
    "        self._dtype = dtype\n",
    "        self._state_len = state_len\n",
    "        self._action_len = action_len\n",
    "        self._info_rate = info_rate\n",
    "        self._dt = dt\n",
    "        self._dur = dur\n",
    "        self._delay = info_rate - dt\n",
    "\n",
    "        self._num_drifts = num_drifts\n",
    "\n",
    "        self._gamma = gamma\n",
    "        self._alpha = alpha\n",
    "\n",
    "        self.history = None\n",
    "\n",
    "        self._actions = torch.eye(action_len).type(FloatTensor)\n",
    "        # init sith\n",
    "        self._in_sith = state_len + action_len\n",
    "        self._sith = SITH(self._in_sith, dt=self._dt, tau_0=self._info_rate, ntau=25, dtype=self._dtype, use_cuda=use_cuda)\n",
    "        self._p0 = torch.zeros((self._state_len, 1)).type(FloatTensor)\n",
    "\n",
    "        # allocate for M\n",
    "        self._in_M = self._sith.T.size()[0]\n",
    "        self._M = torch.zeros((self._state_len, self._in_M)).type(FloatTensor) # (outM, inM)\n",
    "\n",
    "    def reset_T(self):\n",
    "        self._sith.reset()\n",
    "\n",
    "    def add_memory(self, reward):\n",
    "        curr_history = torch.cat((self._sith.T.view(-1).unsqueeze(0),\n",
    "                                  FloatTensor([reward]).unsqueeze(0)),\n",
    "                                 1)\n",
    "        if self.history is None:\n",
    "            self.history = curr_history\n",
    "        else:\n",
    "            self.history = torch.cat((self.history, curr_history), 0)\n",
    "\n",
    "\n",
    "    def _grab_goal(self, state):\n",
    "        # Save current t for later\n",
    "        t_save = self._sith._t.clone()\n",
    "\n",
    "        # Pull out rewards and features from our history. They are needed\n",
    "        # in seperate steps\n",
    "        rewards = self.history[:,-1]\n",
    "        rewarding = torch.zeros(self.history.size(0)).type(FloatTensor)\n",
    "        historical_features = self.history[:, :-1]\n",
    "\n",
    "        # Delay sith and find the reward values from the has table.\n",
    "        for i in range(self._num_drifts):\n",
    "            self._sith.update_t(item=None, dur=self._info_rate)\n",
    "            feature_similarity = torch.mm(historical_features,\n",
    "                                          self._sith.flatten_T().unsqueeze(1))\n",
    "            # Take how closely related the historical features, and multiply\n",
    "            # those by the rewards. This will tell use which history is the\n",
    "            # closest to ours and the most rewarding.\n",
    "            rewarding += feature_similarity.view(-1)*rewards\n",
    "        # Return t to its previous\n",
    "        self._sith._t = t_save\n",
    "        self._sith._t_changed = True\n",
    "        # Pull out the maximumly rewarding state of T from the hash table.\n",
    "        # That is the goal for our actor\n",
    "        out = self.history[rewarding.max(0)[1]][:,:-1]\n",
    "\n",
    "        return out\n",
    "\n",
    "    def pick_action(self, state):\n",
    "        # try out various actions and get max reward\n",
    "        goal_state = self._grab_goal(state)\n",
    "        t_save = self._sith.t.clone()\n",
    "\n",
    "        # try out each action\n",
    "        potential_futures = None\n",
    "\n",
    "        # we need to reset t to the old t every loop. &\n",
    "        for a in self._actions:\n",
    "            \n",
    "            # update sith\n",
    "            sa = torch.cat((state, a), 0)\n",
    "            self._sith.update_t(sa, dur=self._dur)\n",
    "            self._sith.update_t(item=None, dur=self._delay)\n",
    "\n",
    "            # pass through M to get reward\n",
    "            if potential_futures is None:\n",
    "                potential_futures = self._M.mm(self._sith.T.view(-1, 1)).view(1, -1)\n",
    "            else:\n",
    "                potential_futures = torch.cat((potential_futures,\n",
    "                                               self._M.mm(self._sith.T.view(-1, 1)).view(1, -1)),\n",
    "                                              0)\n",
    "            self._sith._t = t_save\n",
    "            self._sith._t_changed = True\n",
    "        evidence = potential_futures.mm(goal_state.view(-1, 1)[:self._in_sith-self._action_len])\n",
    "\n",
    "        value, action_index = evidence.max(0)\n",
    "\n",
    "        return action_index\n",
    "\n",
    "    def learn_step(self, state, action):\n",
    "        # turn into new sa1\n",
    "        sa1 = torch.cat((state, self._actions[action].view(-1)), 0).unsqueeze(1)\n",
    "        sa1_p = torch.cat((sa1, torch.zeros((self._sith.T.size(0) - sa1.size(0), 1)).type(FloatTensor)), 0)\n",
    "        #sa1_p = torch.cat((torch.zeros((self._sith.T.size(0) - sa1.size(0), 1)).type(FloatTensor), sa1), 0)\n",
    "        # calc prediction from new state\n",
    "        p1 = self._M.mm(sa1_p)\n",
    "        # update M based on prediction error\n",
    "        #perr = state.unsqueeze(1) + self._gamma * p1 - self._p0\n",
    "        perr = state.unsqueeze(1) - self._p0\n",
    "        self._M += self._alpha * perr.mm(self._sith.T.unsqueeze(1).t())\n",
    "        \n",
    "        # update T with that state action\n",
    "        self._sith.update_t(item=sa1.view(-1)*self._dt, dur=self._dur)\n",
    "        self._sith.update_t(item=None, dur=self._delay)\n",
    "\n",
    "        # prepare for next loop\n",
    "        self._p0 = p1\n"
   ]
  },
  {
   "cell_type": "code",
   "execution_count": 98,
   "metadata": {},
   "outputs": [],
   "source": [
    "# global params\n",
    "height = 10\n",
    "width=10\n",
    "num_actions = 3\n",
    "input_size = width * height\n",
    "\n",
    "# how many games to train on every frame\n",
    "games_per_frame = 10\n",
    "\n",
    "masks = [0] #[0, 1, 2, 4, 8, 12, 16]\n",
    "\n",
    "q_sizes = {'RL':[1]}\n",
    "           #'queue': [1, 5, 10]}\n",
    "mod_type = [\"RL\"]\n",
    "num_runs = 1\n",
    "model = SithSR(state_len=input_size, action_len=num_actions)"
   ]
  },
  {
   "cell_type": "code",
   "execution_count": 99,
   "metadata": {
    "collapsed": true
   },
   "outputs": [],
   "source": [
    "run_base = 'catch_long_lr'\n",
    "#run_base = 'catch_MSE'\n",
    "num_games = 10000\n",
    "hidden_size = input_size * 1\n",
    "per_random_act = .1\n",
    "# set up the catch environment\n",
    "c = Catch(screen_height=height, screen_width=width,\n",
    "          game_over_conditions = {'ball_deletions': 1},\n",
    "          mask=0, ball_spawn_rate=height+1,)"
   ]
  },
  {
   "cell_type": "code",
   "execution_count": null,
   "metadata": {
    "collapsed": true
   },
   "outputs": [],
   "source": []
  },
  {
   "cell_type": "code",
   "execution_count": 103,
   "metadata": {
    "scrolled": true
   },
   "outputs": [
    {
     "name": "stdout",
     "output_type": "stream",
     "text": [
      "0 :  -1.0\n",
      "1 :  -2.0\n",
      "2 :  -3.0\n",
      "3 :  -4.0\n",
      "4 :  -3.0\n",
      "5 :  -4.0\n",
      "6 :  -5.0\n",
      "7 :  -6.0\n",
      "8 :  -7.0\n",
      "9 :  -8.0\n",
      "10 :  -9.0\n",
      "11 :  -10.0\n",
      "12 :  -9.0\n",
      "13 :  -10.0\n",
      "14 :  -9.0\n",
      "15 :  -10.0\n",
      "16 :  -11.0\n",
      "17 :  -10.0\n",
      "18 :  -11.0\n",
      "19 :  -12.0\n",
      "20 :  -13.0\n",
      "21 :  -12.0\n",
      "22 :  -13.0\n",
      "23 :  -14.0\n",
      "24 :  -13.0\n",
      "25 :  -14.0\n",
      "26 :  -13.0\n",
      "27 :  -12.0\n",
      "28 :  -13.0\n",
      "29 :  -14.0\n",
      "30 :  -13.0\n",
      "31 :  -14.0\n",
      "32 :  -15.0\n",
      "33 :  -16.0\n",
      "34 :  -17.0\n",
      "35 :  -18.0\n",
      "36 :  -19.0\n",
      "37 :  -20.0\n",
      "38 :  -21.0\n",
      "39 :  -20.0\n",
      "40 :  -21.0\n",
      "41 :  -22.0\n",
      "42 :  -23.0\n",
      "43 :  -24.0\n",
      "44 :  -25.0\n",
      "45 :  -26.0\n",
      "46 :  -27.0\n",
      "47 :  -28.0\n",
      "48 :  -29.0\n",
      "49 :  -30.0\n",
      "50 :  -29.0\n",
      "51 :  -28.0\n",
      "52 :  -27.0\n",
      "53 :  -28.0\n",
      "54 :  -29.0\n",
      "55 :  -30.0\n",
      "56 :  -31.0\n",
      "57 :  -32.0\n",
      "58 :  -31.0\n",
      "59 :  -32.0\n",
      "60 :  -33.0\n",
      "61 :  -34.0\n",
      "62 :  -35.0\n",
      "63 :  -36.0\n",
      "64 :  -35.0\n",
      "65 :  -34.0\n",
      "66 :  -33.0\n",
      "67 :  -34.0\n",
      "68 :  -35.0\n",
      "69 :  -36.0\n",
      "70 :  -35.0\n",
      "71 :  -36.0\n",
      "72 :  -35.0\n",
      "73 :  -34.0\n",
      "74 :  -35.0\n",
      "75 :  -36.0\n",
      "76 :  -37.0\n",
      "77 :  -38.0\n",
      "78 :  -37.0\n",
      "79 :  -38.0\n",
      "80 :  -39.0\n",
      "81 :  -40.0\n",
      "82 :  -41.0\n",
      "83 :  -42.0\n",
      "84 :  -43.0\n",
      "85 :  -42.0\n",
      "86 :  -43.0\n",
      "87 :  -44.0\n",
      "88 :  -43.0\n",
      "89 :  -44.0\n",
      "90 :  -45.0\n",
      "91 :  -46.0\n",
      "92 :  -47.0\n",
      "93 :  -48.0\n",
      "94 :  -49.0\n",
      "95 :  -48.0\n",
      "96 :  -47.0\n",
      "97 :  -48.0\n",
      "98 :  -49.0\n",
      "99 :  -48.0\n",
      "100 :  -49.0\n",
      "101 :  -50.0\n",
      "102 :  -49.0\n",
      "103 :  -50.0\n",
      "104 :  -51.0\n",
      "105 :  -50.0\n",
      "106 :  -51.0\n",
      "107 :  -52.0\n",
      "108 :  -53.0\n",
      "109 :  -54.0\n",
      "110 :  -55.0\n",
      "111 :  -54.0\n",
      "112 :  -55.0\n",
      "113 :  -56.0\n",
      "114 :  -55.0\n",
      "115 :  -56.0\n",
      "116 :  -57.0\n",
      "117 :  -58.0\n",
      "118 :  -59.0\n",
      "119 :  -60.0\n",
      "120 :  -61.0\n",
      "121 :  -62.0\n",
      "122 :  -61.0\n",
      "123 :  -62.0\n",
      "124 :  -61.0\n",
      "125 :  -62.0\n",
      "126 :  -63.0\n",
      "127 :  -62.0\n",
      "128 :  -63.0\n",
      "129 :  -62.0\n",
      "130 :  -63.0\n",
      "131 :  -64.0\n",
      "132 :  -65.0\n",
      "133 :  -66.0\n",
      "134 :  -65.0\n",
      "135 :  -66.0\n",
      "136 :  -67.0\n",
      "137 :  -68.0\n",
      "138 :  -67.0\n",
      "139 :  -68.0\n",
      "140 :  -67.0\n",
      "141 :  -68.0\n",
      "142 :  -69.0\n",
      "143 :  -70.0\n",
      "144 :  -71.0\n",
      "145 :  -72.0\n",
      "146 :  -73.0\n",
      "147 :  -74.0\n",
      "148 :  -73.0\n",
      "149 :  -72.0\n",
      "150 :  -73.0\n",
      "151 :  -74.0\n",
      "152 :  -75.0\n",
      "153 :  -76.0\n",
      "154 :  -77.0\n",
      "155 :  -78.0\n",
      "156 :  -79.0\n",
      "157 :  -80.0\n",
      "158 :  -81.0\n",
      "159 :  -82.0\n",
      "160 :  -83.0\n",
      "161 :  -84.0\n",
      "162 :  -83.0\n",
      "163 :  -84.0\n",
      "164 :  -85.0\n",
      "165 :  -86.0\n",
      "166 :  -87.0\n",
      "167 :  -88.0\n",
      "168 :  -87.0\n",
      "169 :  -88.0\n",
      "170 :  -89.0\n",
      "171 :  -90.0\n",
      "172 :  -89.0\n",
      "173 :  -90.0\n",
      "174 :  -91.0\n",
      "175 :  -90.0\n",
      "176 :  -91.0\n",
      "177 :  -92.0\n",
      "178 :  -91.0\n",
      "179 :  -92.0\n",
      "180 :  -93.0\n",
      "181 :  -94.0\n",
      "182 :  -95.0\n",
      "183 :  -94.0\n",
      "184 :  -95.0\n",
      "185 :  -96.0\n",
      "186 :  -95.0\n",
      "187 :  -96.0\n",
      "188 :  -97.0\n",
      "189 :  -96.0\n",
      "190 :  -95.0\n",
      "191 :  -96.0\n",
      "192 :  -97.0\n",
      "193 :  -98.0\n",
      "194 :  -99.0\n",
      "195 :  -100.0\n",
      "196 :  -101.0\n",
      "197 :  -100.0\n",
      "198 :  -101.0\n",
      "199 :  -102.0\n",
      "200 :  -101.0\n",
      "201 :  -102.0\n",
      "202 :  -103.0\n",
      "203 :  -102.0\n",
      "204 :  -101.0\n",
      "205 :  -102.0\n",
      "206 :  -103.0\n",
      "207 :  -104.0\n",
      "208 :  -105.0\n",
      "209 :  -106.0\n",
      "210 :  -107.0\n",
      "211 :  -108.0\n",
      "212 :  -109.0\n",
      "213 :  -110.0\n",
      "214 :  -111.0\n",
      "215 :  -112.0\n",
      "216 :  -111.0\n",
      "217 :  -110.0\n",
      "218 :  -111.0\n",
      "219 :  -112.0\n",
      "220 :  -113.0\n",
      "221 :  -114.0\n",
      "222 :  -115.0\n",
      "223 :  -116.0\n",
      "224 :  -117.0\n",
      "225 :  -116.0\n",
      "226 :  -117.0\n",
      "227 :  -116.0\n",
      "228 :  -117.0\n",
      "229 :  -118.0\n",
      "230 :  -119.0\n",
      "231 :  -120.0\n",
      "232 :  -121.0\n",
      "233 :  -120.0\n",
      "234 :  -121.0\n",
      "235 :  -122.0\n",
      "236 :  -123.0\n",
      "237 :  -122.0\n",
      "238 :  -121.0\n",
      "239 :  -122.0\n",
      "240 :  -123.0\n",
      "241 :  -124.0\n",
      "242 :  -125.0\n",
      "243 :  -124.0\n",
      "244 :  -125.0\n",
      "245 :  -126.0\n",
      "246 :  -125.0\n",
      "247 :  -126.0\n",
      "248 :  -127.0\n",
      "249 :  -126.0\n",
      "250 :  -127.0\n",
      "251 :  -128.0\n",
      "252 :  -127.0\n",
      "253 :  -126.0\n",
      "254 :  -127.0\n",
      "255 :  -128.0\n",
      "256 :  -129.0\n",
      "257 :  -130.0\n",
      "258 :  -131.0\n",
      "259 :  -132.0\n",
      "260 :  -133.0\n",
      "261 :  -134.0\n",
      "262 :  -135.0\n",
      "263 :  -136.0\n",
      "264 :  -135.0\n",
      "265 :  -136.0\n",
      "266 :  -137.0\n",
      "267 :  -138.0\n",
      "268 :  -139.0\n",
      "269 :  -140.0\n",
      "270 :  -139.0\n",
      "271 :  -140.0\n",
      "272 :  -141.0\n",
      "273 :  -140.0\n",
      "274 :  -139.0\n",
      "275 :  -138.0\n",
      "276 :  -139.0\n",
      "277 :  -138.0\n",
      "278 :  -139.0\n",
      "279 :  -140.0\n",
      "280 :  -141.0\n",
      "281 :  -142.0\n",
      "282 :  -143.0\n",
      "283 :  -142.0\n",
      "284 :  -143.0\n",
      "285 :  -144.0\n",
      "286 :  -145.0\n",
      "287 :  -144.0\n",
      "288 :  -145.0\n",
      "289 :  -146.0\n",
      "290 :  -147.0\n",
      "291 :  -148.0\n",
      "292 :  -149.0\n",
      "293 :  -148.0\n",
      "294 :  -147.0\n",
      "295 :  -146.0\n",
      "296 :  -147.0\n",
      "297 :  -148.0\n",
      "298 :  -147.0\n",
      "299 :  -148.0\n",
      "300 :  -147.0\n",
      "301 :  -148.0\n",
      "302 :  -147.0\n",
      "303 :  -148.0\n",
      "304 :  -149.0\n",
      "305 :  -150.0\n",
      "306 :  -151.0\n",
      "307 :  -152.0\n",
      "308 :  -153.0\n",
      "309 :  -152.0\n",
      "310 :  -151.0\n",
      "311 :  -150.0\n",
      "312 :  -149.0\n",
      "313 :  -150.0\n",
      "314 :  -151.0\n",
      "315 :  -152.0\n",
      "316 :  -153.0\n",
      "317 :  -154.0\n",
      "318 :  -153.0\n",
      "319 :  -154.0\n",
      "320 :  -155.0\n",
      "321 :  -154.0\n",
      "322 :  -153.0\n",
      "323 :  -154.0\n",
      "324 :  -155.0\n",
      "325 :  -154.0\n",
      "326 :  -155.0\n",
      "327 :  -156.0\n",
      "328 :  -155.0\n",
      "329 :  -154.0\n",
      "330 :  -153.0\n",
      "331 :  -154.0\n",
      "332 :  -155.0\n",
      "333 :  -156.0\n",
      "334 :  -155.0\n",
      "335 :  -156.0\n",
      "336 :  -157.0\n",
      "337 :  -158.0\n",
      "338 :  -159.0\n",
      "339 :  -160.0\n",
      "340 :  -161.0\n",
      "341 :  -162.0\n",
      "342 :  -161.0\n",
      "343 :  -162.0\n",
      "344 :  -163.0\n",
      "345 :  -164.0\n",
      "346 :  -163.0\n",
      "347 :  -162.0\n",
      "348 :  -163.0\n",
      "349 :  -164.0\n",
      "350 :  -165.0\n",
      "351 :  -166.0\n",
      "352 :  -167.0\n",
      "353 :  -166.0\n",
      "354 :  -165.0\n",
      "355 :  -166.0\n",
      "356 :  -165.0\n",
      "357 :  -164.0\n",
      "358 :  -163.0\n",
      "359 :  -164.0\n",
      "360 :  -165.0\n",
      "361 :  -166.0\n",
      "362 :  -167.0\n",
      "363 :  -168.0\n",
      "364 :  -169.0\n",
      "365 :  -170.0\n",
      "366 :  -171.0\n",
      "367 :  -170.0\n",
      "368 :  -171.0\n",
      "369 :  -172.0\n",
      "370 :  -173.0\n",
      "371 :  -172.0\n",
      "372 :  -173.0\n",
      "373 :  -172.0\n",
      "374 :  -173.0\n",
      "375 :  -174.0\n",
      "376 :  -175.0\n",
      "377 :  -176.0\n",
      "378 :  -177.0\n",
      "379 :  -176.0\n",
      "380 :  -177.0\n",
      "381 :  -178.0\n",
      "382 :  -179.0\n",
      "383 :  -180.0\n",
      "384 :  -179.0\n",
      "385 :  -178.0\n",
      "386 :  -179.0\n",
      "387 :  -178.0\n",
      "388 :  -179.0\n",
      "389 :  -178.0\n",
      "390 :  -179.0\n",
      "391 :  -180.0\n",
      "392 :  -179.0\n",
      "393 :  -180.0\n",
      "394 :  -179.0\n",
      "395 :  -178.0\n",
      "396 :  -179.0\n",
      "397 :  -178.0\n",
      "398 :  -179.0\n",
      "399 :  -178.0\n",
      "400 :  -179.0\n",
      "401 :  -178.0\n",
      "402 :  -177.0\n",
      "403 :  -176.0\n",
      "404 :  -177.0\n",
      "405 :  -178.0\n",
      "406 :  -179.0\n",
      "407 :  -180.0\n",
      "408 :  -181.0\n",
      "409 :  -180.0\n",
      "410 :  -181.0\n",
      "411 :  -180.0\n",
      "412 :  -179.0\n",
      "413 :  -178.0\n",
      "414 :  -179.0\n",
      "415 :  -180.0\n",
      "416 :  -179.0\n",
      "417 :  -178.0\n",
      "418 :  -179.0\n",
      "419 :  -180.0\n",
      "420 :  -181.0\n",
      "421 :  -182.0\n",
      "422 :  -183.0\n",
      "423 :  -184.0\n",
      "424 :  -183.0\n",
      "425 :  -184.0\n",
      "426 :  -185.0\n",
      "427 :  -186.0\n",
      "428 :  -187.0\n",
      "429 :  -188.0\n",
      "430 :  -189.0\n",
      "431 :  -190.0\n",
      "432 :  -189.0\n",
      "433 :  -188.0\n",
      "434 :  -189.0\n",
      "435 :  -190.0\n",
      "436 :  -191.0\n",
      "437 :  -190.0\n",
      "438 :  -191.0\n",
      "439 :  -192.0\n",
      "440 :  -193.0\n",
      "441 :  -194.0\n",
      "442 :  -195.0\n",
      "443 :  -196.0\n",
      "444 :  -197.0\n",
      "445 :  -198.0\n",
      "446 :  -197.0\n",
      "447 :  -198.0\n",
      "448 :  -197.0\n",
      "449 :  -196.0\n",
      "450 :  -197.0\n",
      "451 :  -198.0\n",
      "452 :  -199.0\n",
      "453 :  -198.0\n",
      "454 :  -199.0\n",
      "455 :  -198.0\n",
      "456 :  -199.0\n",
      "457 :  -198.0\n",
      "458 :  -199.0\n",
      "459 :  -200.0\n",
      "460 :  -199.0\n",
      "461 :  -198.0\n",
      "462 :  -197.0\n",
      "463 :  -196.0\n",
      "464 :  -197.0\n",
      "465 :  -198.0\n",
      "466 :  -197.0\n",
      "467 :  -198.0\n",
      "468 :  -199.0\n",
      "469 :  -200.0\n",
      "470 :  -201.0\n",
      "471 :  -202.0\n",
      "472 :  -201.0\n",
      "473 :  -202.0\n",
      "474 :  -203.0\n",
      "475 :  -204.0\n",
      "476 :  -205.0\n",
      "477 :  -206.0\n",
      "478 :  -205.0\n",
      "479 :  -204.0\n",
      "480 :  -203.0\n",
      "481 :  -204.0\n",
      "482 :  -203.0\n",
      "483 :  -202.0\n",
      "484 :  -203.0\n",
      "485 :  -202.0\n",
      "486 :  -203.0\n",
      "487 :  -204.0\n",
      "488 :  -205.0\n",
      "489 :  -206.0\n",
      "490 :  -207.0\n",
      "491 :  -208.0\n",
      "492 :  -209.0\n",
      "493 :  -208.0\n",
      "494 :  -209.0\n",
      "495 :  -208.0\n",
      "496 :  -209.0\n",
      "497 :  -210.0\n",
      "498 :  -209.0\n",
      "499 :  -210.0\n",
      "500 :  -209.0\n",
      "501 :  -210.0\n",
      "502 :  -211.0\n",
      "503 :  -212.0\n",
      "504 :  -213.0\n",
      "505 :  -214.0\n",
      "506 :  -213.0\n",
      "507 :  -214.0\n",
      "508 :  -215.0\n",
      "509 :  -214.0\n",
      "510 :  -215.0\n",
      "511 :  -216.0\n",
      "512 :  -217.0\n",
      "513 :  -216.0\n",
      "514 :  -217.0\n",
      "515 :  -218.0\n",
      "516 :  -217.0\n",
      "517 :  -218.0\n",
      "518 :  -217.0\n",
      "519 :  -218.0\n",
      "520 :  -219.0\n",
      "521 :  -220.0\n",
      "522 :  -221.0\n",
      "523 :  -222.0\n",
      "524 :  -223.0\n",
      "525 :  -224.0\n",
      "526 :  -225.0\n",
      "527 :  -226.0\n",
      "528 :  -227.0\n",
      "529 :  -228.0\n",
      "530 :  -229.0\n",
      "531 :  -228.0\n",
      "532 :  -229.0\n",
      "533 :  -230.0\n",
      "534 :  -231.0\n",
      "535 :  -232.0\n",
      "536 :  -233.0\n",
      "537 :  -232.0\n",
      "538 :  -233.0\n",
      "539 :  -234.0\n",
      "540 :  -235.0\n",
      "541 :  -236.0\n",
      "542 :  -237.0\n",
      "543 :  -238.0\n",
      "544 :  -239.0\n",
      "545 :  -240.0\n",
      "546 :  -241.0\n",
      "547 :  -240.0\n",
      "548 :  -239.0\n",
      "549 :  -238.0\n",
      "550 :  -239.0\n",
      "551 :  -240.0\n",
      "552 :  -241.0\n",
      "553 :  -242.0\n",
      "554 :  -243.0\n",
      "555 :  -244.0\n",
      "556 :  -243.0\n",
      "557 :  -244.0\n",
      "558 :  -245.0\n",
      "559 :  -246.0\n",
      "560 :  -247.0\n",
      "561 :  -248.0\n",
      "562 :  -249.0\n",
      "563 :  -250.0\n",
      "564 :  -251.0\n",
      "565 :  -250.0\n",
      "566 :  -251.0\n",
      "567 :  -252.0\n",
      "568 :  -253.0\n",
      "569 :  -254.0\n",
      "570 :  -255.0\n",
      "571 :  -256.0\n",
      "572 :  -255.0\n",
      "573 :  -256.0\n",
      "574 :  -255.0\n",
      "575 :  -254.0\n",
      "576 :  -255.0\n",
      "577 :  -256.0\n",
      "578 :  -257.0\n",
      "579 :  -256.0\n",
      "580 :  -257.0\n",
      "581 :  -256.0\n",
      "582 :  -257.0\n",
      "583 :  -258.0\n",
      "584 :  -257.0\n",
      "585 :  -258.0\n",
      "586 :  -259.0\n",
      "587 :  -260.0\n",
      "588 :  -259.0\n",
      "589 :  -260.0\n",
      "590 :  -261.0\n",
      "591 :  -262.0\n",
      "592 :  -263.0\n",
      "593 :  -264.0\n",
      "594 :  -265.0\n",
      "595 :  -266.0\n",
      "596 :  -265.0\n",
      "597 :  -266.0\n",
      "598 :  -265.0\n",
      "599 :  -266.0\n",
      "600 :  -265.0\n",
      "601 :  -266.0\n",
      "602 :  -265.0\n",
      "603 :  -264.0\n",
      "604 :  -263.0\n",
      "605 :  -262.0\n",
      "606 :  -263.0\n",
      "607 :  -264.0\n",
      "608 :  -263.0\n",
      "609 :  -264.0\n",
      "610 :  -265.0\n"
     ]
    },
    {
     "name": "stdout",
     "output_type": "stream",
     "text": [
      "611 :  -266.0\n",
      "612 :  -267.0\n",
      "613 :  -268.0\n",
      "614 :  -267.0\n",
      "615 :  -268.0\n",
      "616 :  -267.0\n",
      "617 :  -266.0\n",
      "618 :  -267.0\n",
      "619 :  -268.0\n",
      "620 :  -269.0\n",
      "621 :  -268.0\n",
      "622 :  -269.0\n",
      "623 :  -270.0\n",
      "624 :  -269.0\n",
      "625 :  -270.0\n",
      "626 :  -269.0\n",
      "627 :  -268.0\n",
      "628 :  -267.0\n",
      "629 :  -268.0\n",
      "630 :  -269.0\n",
      "631 :  -270.0\n",
      "632 :  -271.0\n",
      "633 :  -270.0\n",
      "634 :  -271.0\n",
      "635 :  -272.0\n",
      "636 :  -273.0\n",
      "637 :  -272.0\n",
      "638 :  -273.0\n",
      "639 :  -274.0\n",
      "640 :  -275.0\n",
      "641 :  -276.0\n",
      "642 :  -277.0\n",
      "643 :  -276.0\n",
      "644 :  -277.0\n",
      "645 :  -278.0\n",
      "646 :  -279.0\n",
      "647 :  -280.0\n",
      "648 :  -281.0\n",
      "649 :  -282.0\n",
      "650 :  -283.0\n",
      "651 :  -284.0\n",
      "652 :  -285.0\n",
      "653 :  -286.0\n",
      "654 :  -287.0\n",
      "655 :  -286.0\n",
      "656 :  -287.0\n",
      "657 :  -288.0\n",
      "658 :  -289.0\n",
      "659 :  -290.0\n",
      "660 :  -289.0\n",
      "661 :  -290.0\n",
      "662 :  -289.0\n",
      "663 :  -290.0\n",
      "664 :  -291.0\n",
      "665 :  -290.0\n",
      "666 :  -291.0\n",
      "667 :  -292.0\n",
      "668 :  -293.0\n",
      "669 :  -294.0\n",
      "670 :  -293.0\n",
      "671 :  -292.0\n",
      "672 :  -291.0\n",
      "673 :  -290.0\n",
      "674 :  -289.0\n",
      "675 :  -288.0\n",
      "676 :  -289.0\n",
      "677 :  -290.0\n",
      "678 :  -291.0\n",
      "679 :  -292.0\n",
      "680 :  -293.0\n",
      "681 :  -292.0\n",
      "682 :  -291.0\n",
      "683 :  -290.0\n",
      "684 :  -289.0\n",
      "685 :  -290.0\n",
      "686 :  -289.0\n",
      "687 :  -290.0\n",
      "688 :  -291.0\n",
      "689 :  -292.0\n",
      "690 :  -291.0\n",
      "691 :  -292.0\n",
      "692 :  -293.0\n",
      "693 :  -294.0\n",
      "694 :  -293.0\n",
      "695 :  -292.0\n",
      "696 :  -291.0\n",
      "697 :  -292.0\n",
      "698 :  -293.0\n",
      "699 :  -292.0\n",
      "700 :  -293.0\n",
      "701 :  -294.0\n",
      "702 :  -295.0\n",
      "703 :  -296.0\n",
      "704 :  -297.0\n",
      "705 :  -298.0\n",
      "706 :  -299.0\n",
      "707 :  -300.0\n",
      "708 :  -301.0\n",
      "709 :  -302.0\n",
      "710 :  -301.0\n",
      "711 :  -302.0\n",
      "712 :  -303.0\n",
      "713 :  -304.0\n",
      "714 :  -305.0\n",
      "715 :  -306.0\n",
      "716 :  -305.0\n",
      "717 :  -306.0\n",
      "718 :  -307.0\n",
      "719 :  -308.0\n",
      "720 :  -309.0\n",
      "721 :  -310.0\n",
      "722 :  -311.0\n",
      "723 :  -310.0\n",
      "724 :  -311.0\n",
      "725 :  -310.0\n",
      "726 :  -311.0\n",
      "727 :  -312.0\n",
      "728 :  -313.0\n",
      "729 :  -314.0\n",
      "730 :  -313.0\n",
      "731 :  -312.0\n",
      "732 :  -313.0\n",
      "733 :  -314.0\n",
      "734 :  -315.0\n",
      "735 :  -314.0\n",
      "736 :  -315.0\n",
      "737 :  -316.0\n",
      "738 :  -317.0\n",
      "739 :  -316.0\n",
      "740 :  -317.0\n",
      "741 :  -316.0\n",
      "742 :  -317.0\n",
      "743 :  -316.0\n",
      "744 :  -315.0\n",
      "745 :  -316.0\n",
      "746 :  -317.0\n",
      "747 :  -318.0\n",
      "748 :  -319.0\n",
      "749 :  -320.0\n",
      "750 :  -319.0\n",
      "751 :  -320.0\n",
      "752 :  -321.0\n",
      "753 :  -322.0\n",
      "754 :  -321.0\n",
      "755 :  -320.0\n"
     ]
    },
    {
     "ename": "KeyboardInterrupt",
     "evalue": "",
     "output_type": "error",
     "traceback": [
      "\u001b[0;31m---------------------------------------------------------------------------\u001b[0m",
      "\u001b[0;31mKeyboardInterrupt\u001b[0m                         Traceback (most recent call last)",
      "\u001b[0;32m<ipython-input-103-4d93fa55ab42>\u001b[0m in \u001b[0;36m<module>\u001b[0;34m()\u001b[0m\n\u001b[1;32m     20\u001b[0m             \u001b[0maction\u001b[0m \u001b[0;34m=\u001b[0m \u001b[0;34m(\u001b[0m\u001b[0mtorch\u001b[0m\u001b[0;34m.\u001b[0m\u001b[0mrand\u001b[0m\u001b[0;34m(\u001b[0m\u001b[0;36m1\u001b[0m\u001b[0;34m)\u001b[0m \u001b[0;34m*\u001b[0m \u001b[0;34m(\u001b[0m\u001b[0mnum_actions\u001b[0m\u001b[0;34m)\u001b[0m\u001b[0;34m)\u001b[0m\u001b[0;34m.\u001b[0m\u001b[0mtype\u001b[0m\u001b[0;34m(\u001b[0m\u001b[0mLongTensor\u001b[0m\u001b[0;34m)\u001b[0m\u001b[0;34m\u001b[0m\u001b[0m\n\u001b[1;32m     21\u001b[0m         else:\"\"\"\n\u001b[0;32m---> 22\u001b[0;31m         \u001b[0maction\u001b[0m \u001b[0;34m=\u001b[0m \u001b[0mmodel\u001b[0m\u001b[0;34m.\u001b[0m\u001b[0mpick_action\u001b[0m\u001b[0;34m(\u001b[0m\u001b[0minput_tm1\u001b[0m\u001b[0;34m)\u001b[0m\u001b[0;34m\u001b[0m\u001b[0m\n\u001b[0m\u001b[1;32m     23\u001b[0m \u001b[0;34m\u001b[0m\u001b[0m\n\u001b[1;32m     24\u001b[0m         \u001b[0;31m# apply action, get rewards and new state\u001b[0m\u001b[0;34m\u001b[0m\u001b[0;34m\u001b[0m\u001b[0m\n",
      "\u001b[0;32m<ipython-input-97-cc8a7f3fb7d5>\u001b[0m in \u001b[0;36mpick_action\u001b[0;34m(self, state)\u001b[0m\n\u001b[1;32m     78\u001b[0m     \u001b[0;32mdef\u001b[0m \u001b[0mpick_action\u001b[0m\u001b[0;34m(\u001b[0m\u001b[0mself\u001b[0m\u001b[0;34m,\u001b[0m \u001b[0mstate\u001b[0m\u001b[0;34m)\u001b[0m\u001b[0;34m:\u001b[0m\u001b[0;34m\u001b[0m\u001b[0m\n\u001b[1;32m     79\u001b[0m         \u001b[0;31m# try out various actions and get max reward\u001b[0m\u001b[0;34m\u001b[0m\u001b[0;34m\u001b[0m\u001b[0m\n\u001b[0;32m---> 80\u001b[0;31m         \u001b[0mgoal_state\u001b[0m \u001b[0;34m=\u001b[0m \u001b[0mself\u001b[0m\u001b[0;34m.\u001b[0m\u001b[0m_grab_goal\u001b[0m\u001b[0;34m(\u001b[0m\u001b[0mstate\u001b[0m\u001b[0;34m)\u001b[0m\u001b[0;34m\u001b[0m\u001b[0m\n\u001b[0m\u001b[1;32m     81\u001b[0m         \u001b[0mt_save\u001b[0m \u001b[0;34m=\u001b[0m \u001b[0mself\u001b[0m\u001b[0;34m.\u001b[0m\u001b[0m_sith\u001b[0m\u001b[0;34m.\u001b[0m\u001b[0mt\u001b[0m\u001b[0;34m.\u001b[0m\u001b[0mclone\u001b[0m\u001b[0;34m(\u001b[0m\u001b[0;34m)\u001b[0m\u001b[0;34m\u001b[0m\u001b[0m\n\u001b[1;32m     82\u001b[0m \u001b[0;34m\u001b[0m\u001b[0m\n",
      "\u001b[0;32m<ipython-input-97-cc8a7f3fb7d5>\u001b[0m in \u001b[0;36m_grab_goal\u001b[0;34m(self, state)\u001b[0m\n\u001b[1;32m     62\u001b[0m             \u001b[0mself\u001b[0m\u001b[0;34m.\u001b[0m\u001b[0m_sith\u001b[0m\u001b[0;34m.\u001b[0m\u001b[0mupdate_t\u001b[0m\u001b[0;34m(\u001b[0m\u001b[0mitem\u001b[0m\u001b[0;34m=\u001b[0m\u001b[0;32mNone\u001b[0m\u001b[0;34m,\u001b[0m \u001b[0mdur\u001b[0m\u001b[0;34m=\u001b[0m\u001b[0mself\u001b[0m\u001b[0;34m.\u001b[0m\u001b[0m_info_rate\u001b[0m\u001b[0;34m)\u001b[0m\u001b[0;34m\u001b[0m\u001b[0m\n\u001b[1;32m     63\u001b[0m             feature_similarity = torch.mm(historical_features,\n\u001b[0;32m---> 64\u001b[0;31m                                           self._sith.flatten_T().unsqueeze(1))\n\u001b[0m\u001b[1;32m     65\u001b[0m             \u001b[0;31m# Take how closely related the historical features, and multiply\u001b[0m\u001b[0;34m\u001b[0m\u001b[0;34m\u001b[0m\u001b[0m\n\u001b[1;32m     66\u001b[0m             \u001b[0;31m# those by the rewards. This will tell use which history is the\u001b[0m\u001b[0;34m\u001b[0m\u001b[0;34m\u001b[0m\u001b[0m\n",
      "\u001b[0;31mKeyboardInterrupt\u001b[0m: "
     ]
    }
   ],
   "source": [
    "tot_score = 0.0\n",
    "\n",
    "# train over total epochs\n",
    "for e in range(num_games):\n",
    "    c.reset()\n",
    "    model.reset_T()\n",
    "    game_over = False\n",
    "    # get initial input\n",
    "    input_t = Tensor(c.observe(flatten=True))\n",
    "    \n",
    "    #iterate over each game\n",
    "    while not game_over:\n",
    "        # t_-1 is the previous observation\n",
    "        input_tm1 = input_t.clone()\n",
    "\n",
    "\n",
    "        # Randomly pick an action, or use the\n",
    "        # Previously calculated action\n",
    "        \"\"\"if (np.random.rand() <= per_random_act) or (model.history is None):\n",
    "            action = (torch.rand(1) * (num_actions)).type(LongTensor)\n",
    "        else:\"\"\"\n",
    "        action = model.pick_action(input_tm1)\n",
    "\n",
    "        # apply action, get rewards and new state\n",
    "        reward, timestep, game_over = c.act(action.cpu().numpy()[0]-1)\n",
    "\n",
    "        # t_0, current timestep\n",
    "        input_t = Tensor(c.observe(flatten=True))\n",
    "\n",
    "        # store experience\n",
    "        model.learn_step(state=input_tm1, action=action.cpu().numpy()[0])\n",
    "        if reward != 0:\n",
    "            model.add_memory(reward)\n",
    "            tot_score += reward\n",
    "    print(e, \": \", tot_score)\n",
    "    # Reset Game and Model Queue when the game is over.\n",
    "    "
   ]
  },
  {
   "cell_type": "code",
   "execution_count": 104,
   "metadata": {
    "scrolled": false
   },
   "outputs": [
    {
     "data": {
      "text/plain": [
       "<matplotlib.colorbar.Colorbar at 0x7f5dde3b1390>"
      ]
     },
     "execution_count": 104,
     "metadata": {},
     "output_type": "execute_result"
    },
    {
     "data": {
      "image/png": "[encoded data removed]",
      "text/plain": [
       "<matplotlib.figure.Figure at 0x7f5dde3b13c8>"
      ]
     },
     "metadata": {},
     "output_type": "display_data"
    }
   ],
   "source": [
    "matshow(model._M.cpu().numpy())\n",
    "colorbar()\n"
   ]
  },
  {
   "cell_type": "code",
   "execution_count": 105,
   "metadata": {},
   "outputs": [
    {
     "data": {
      "text/plain": [
       "\n",
       " 0.0000  0.0000  0.0000  ...   0.0000  0.0000  0.0000\n",
       " 0.0000  0.0000  0.0000  ...   0.0000  0.0000  0.0000\n",
       " 0.0000  0.0000  0.0000  ...   0.0000  0.0000  0.0000\n",
       "          ...             ⋱             ...          \n",
       " 0.0007 -0.0135 -0.0127  ...   0.0212 -0.0144 -0.0052\n",
       " 0.0523 -0.0255 -0.0116  ...   0.0226 -0.0042 -0.0169\n",
       "-0.0188  0.0149  0.0054  ...   0.0275 -0.0216 -0.0071\n",
       "[torch.FloatTensor of size 100x515]"
      ]
     },
     "execution_count": 105,
     "metadata": {},
     "output_type": "execute_result"
    }
   ],
   "source": [
    "model._M"
   ]
  },
  {
   "cell_type": "code",
   "execution_count": 8,
   "metadata": {},
   "outputs": [
    {
     "data": {
      "text/plain": [
       "<matplotlib.colorbar.Colorbar at 0x7fe9442c7ef0>"
      ]
     },
     "execution_count": 8,
     "metadata": {},
     "output_type": "execute_result"
    },
    {
     "data": {
      "image/png": "[encoded data removed]",
      "text/plain": [
       "<matplotlib.figure.Figure at 0x7fe9442c7f98>"
      ]
     },
     "metadata": {},
     "output_type": "display_data"
    }
   ],
   "source": [
    "matshow(model._sith.T[0:100].view(10,10).cpu().numpy())\n",
    "colorbar()"
   ]
  },
  {
   "cell_type": "code",
   "execution_count": 260,
   "metadata": {},
   "outputs": [
    {
     "data": {
      "text/plain": [
       "<matplotlib.image.AxesImage at 0x7fcd336dd470>"
      ]
     },
     "execution_count": 260,
     "metadata": {},
     "output_type": "execute_result"
    },
    {
     "data": {
      "image/png": "[encoded data removed]",
      "text/plain": [
       "<matplotlib.figure.Figure at 0x7fcd33aad208>"
      ]
     },
     "metadata": {},
     "output_type": "display_data"
    }
   ],
   "source": [
    "matshow(model._sith.T[103:203].view(10,10).cpu().numpy())"
   ]
  },
  {
   "cell_type": "code",
   "execution_count": 261,
   "metadata": {},
   "outputs": [
    {
     "data": {
      "text/plain": [
       "<matplotlib.image.AxesImage at 0x7fcd336b4860>"
      ]
     },
     "execution_count": 261,
     "metadata": {},
     "output_type": "execute_result"
    },
    {
     "data": {
      "image/png": "[encoded data removed]",
      "text/plain": [
       "<matplotlib.figure.Figure at 0x7fcd336f86a0>"
      ]
     },
     "metadata": {},
     "output_type": "display_data"
    }
   ],
   "source": [
    "matshow(model._sith.T[206:306].view(10,10).cpu().numpy())"
   ]
  },
  {
   "cell_type": "code",
   "execution_count": 262,
   "metadata": {},
   "outputs": [
    {
     "data": {
      "text/plain": [
       "<matplotlib.image.AxesImage at 0x7fcd33609cc0>"
      ]
     },
     "execution_count": 262,
     "metadata": {},
     "output_type": "execute_result"
    },
    {
     "data": {
      "image/png": "[encoded data removed]",
      "text/plain": [
       "<matplotlib.figure.Figure at 0x7fcd33838ac8>"
      ]
     },
     "metadata": {},
     "output_type": "display_data"
    }
   ],
   "source": [
    "matshow(model._sith.T[0:100].view(10,10).cpu().numpy())"
   ]
  },
  {
   "cell_type": "code",
   "execution_count": 170,
   "metadata": {
    "collapsed": true
   },
   "outputs": [],
   "source": [
    "sith = SITH(103, dt=1./30./10., ntau=25, T_every=8, tau_0=1./30.,dtype=np.float32, use_cuda=use_cuda)\n",
    "actions = torch.eye(3).type(FloatTensor)\n"
   ]
  },
  {
   "cell_type": "code",
   "execution_count": 216,
   "metadata": {},
   "outputs": [
    {
     "data": {
      "text/plain": [
       "<matplotlib.colorbar.Colorbar at 0x7f69680916d8>"
      ]
     },
     "execution_count": 216,
     "metadata": {},
     "output_type": "execute_result"
    },
    {
     "data": {
      "image/png": "[encoded data removed]",
      "text/plain": [
       "<matplotlib.figure.Figure at 0x7f69681ead30>"
      ]
     },
     "metadata": {},
     "output_type": "display_data"
    }
   ],
   "source": [
    "matshow(sith.T.unsqueeze(1).t().cpu().numpy()[:,-103:-3])\n",
    "colorbar()"
   ]
  },
  {
   "cell_type": "code",
   "execution_count": 202,
   "metadata": {
    "collapsed": true
   },
   "outputs": [],
   "source": [
    "input_t = Tensor(c.observe(flatten=True))"
   ]
  },
  {
   "cell_type": "code",
   "execution_count": 203,
   "metadata": {},
   "outputs": [
    {
     "data": {
      "text/plain": [
       "\n",
       "    0     0     0     0     0     0     0     0     0     0\n",
       "    0     0     0     0     0     0     0     0     0     0\n",
       "    0     0     0     0     0     0     0     0     0     0\n",
       "    0     0     0     0     0     0     0     1     0     0\n",
       "    0     0     0     0     0     0     0     0     0     0\n",
       "    0     0     0     0     0     0     0     0     0     0\n",
       "    0     0     0     0     0     0     0     0     0     0\n",
       "    0     0     0     0     0     0     0     0     0     0\n",
       "    0     0     0     0     0     0     0     0     0     0\n",
       "    1     1     1     0     0     0     0     0     0     0\n",
       "[torch.cuda.FloatTensor of size 10x10 (GPU 0)]"
      ]
     },
     "execution_count": 203,
     "metadata": {},
     "output_type": "execute_result"
    }
   ],
   "source": [
    "input_t.view(10,10)"
   ]
  },
  {
   "cell_type": "code",
   "execution_count": 204,
   "metadata": {
    "collapsed": true
   },
   "outputs": [],
   "source": [
    "sa1 = torch.cat((input_t, actions[0].view(-1)), 0).unsqueeze(1)\n"
   ]
  },
  {
   "cell_type": "code",
   "execution_count": 205,
   "metadata": {
    "collapsed": true
   },
   "outputs": [],
   "source": [
    "sith.update_t(item=sa1.view(-1), dur=1./30./10.)\n",
    "sith.update_t(item=None, dur=(1./30.) - (1./30./10.))"
   ]
  },
  {
   "cell_type": "code",
   "execution_count": 206,
   "metadata": {
    "collapsed": true
   },
   "outputs": [],
   "source": [
    "reward, timestep, game_over = c.act(-1)"
   ]
  },
  {
   "cell_type": "code",
   "execution_count": 207,
   "metadata": {},
   "outputs": [
    {
     "data": {
      "text/plain": [
       "<matplotlib.colorbar.Colorbar at 0x7f6968484630>"
      ]
     },
     "execution_count": 207,
     "metadata": {},
     "output_type": "execute_result"
    },
    {
     "data": {
      "image/png": "[encoded data removed]",
      "text/plain": [
       "<matplotlib.figure.Figure at 0x7f69685b20f0>"
      ]
     },
     "metadata": {},
     "output_type": "display_data"
    }
   ],
   "source": [
    "matshow(sith.T[0:100].view(10,10).cpu().numpy())\n",
    "colorbar()"
   ]
  },
  {
   "cell_type": "code",
   "execution_count": 208,
   "metadata": {},
   "outputs": [
    {
     "data": {
      "text/plain": [
       "<matplotlib.colorbar.Colorbar at 0x7f696832ffd0>"
      ]
     },
     "execution_count": 208,
     "metadata": {},
     "output_type": "execute_result"
    },
    {
     "data": {
      "image/png": "[encoded data removed]",
      "text/plain": [
       "<matplotlib.figure.Figure at 0x7f6968354080>"
      ]
     },
     "metadata": {},
     "output_type": "display_data"
    }
   ],
   "source": [
    "matshow(sith.T[103:203].view(10,10).cpu().numpy())\n",
    "colorbar()"
   ]
  },
  {
   "cell_type": "code",
   "execution_count": 178,
   "metadata": {},
   "outputs": [
    {
     "data": {
      "text/plain": [
       "<matplotlib.colorbar.Colorbar at 0x7f6968de1b70>"
      ]
     },
     "execution_count": 178,
     "metadata": {},
     "output_type": "execute_result"
    },
    {
     "data": {
      "image/png": "[encoded data removed]",
      "text/plain": [
       "<matplotlib.figure.Figure at 0x7f6968ab7400>"
      ]
     },
     "metadata": {},
     "output_type": "display_data"
    }
   ],
   "source": [
    "matshow(sith.T[206:306].view(10,10).cpu().numpy())\n",
    "colorbar()"
   ]
  },
  {
   "cell_type": "code",
   "execution_count": 179,
   "metadata": {},
   "outputs": [
    {
     "data": {
      "text/plain": [
       "<matplotlib.colorbar.Colorbar at 0x7f6968868128>"
      ]
     },
     "execution_count": 179,
     "metadata": {},
     "output_type": "execute_result"
    },
    {
     "data": {
      "image/png": "[encoded data removed]",
      "text/plain": [
       "<matplotlib.figure.Figure at 0x7f6968aaf9b0>"
      ]
     },
     "metadata": {},
     "output_type": "display_data"
    }
   ],
   "source": [
    "matshow(sith.T[309:409].view(10,10).cpu().numpy())\n",
    "colorbar()"
   ]
  },
  {
   "cell_type": "code",
   "execution_count": null,
   "metadata": {
    "collapsed": true
   },
   "outputs": [],
   "source": []
  },
  {
   "cell_type": "code",
   "execution_count": null,
   "metadata": {
    "collapsed": true
   },
   "outputs": [],
   "source": []
  },
  {
   "cell_type": "code",
   "execution_count": 180,
   "metadata": {
    "collapsed": true
   },
   "outputs": [],
   "source": [
    "c.reset()"
   ]
  },
  {
   "cell_type": "code",
   "execution_count": 224,
   "metadata": {
    "collapsed": true
   },
   "outputs": [],
   "source": [
    "sith = SITH(103, dt=1./30./10., ntau=25, tau_0=1/30., dtype=np.float32, use_cuda=use_cuda)\n"
   ]
  },
  {
   "cell_type": "code",
   "execution_count": 294,
   "metadata": {},
   "outputs": [
    {
     "data": {
      "text/plain": [
       "array([ 0.06830134,  0.14641   ,  0.31384283,  0.67275   ,  1.44209933,\n",
       "        3.09126806], dtype=float32)"
      ]
     },
     "execution_count": 294,
     "metadata": {},
     "output_type": "execute_result"
    }
   ],
   "source": [
    "sith.tau_star[sith._T_full_ind]"
   ]
  },
  {
   "cell_type": "code",
   "execution_count": 40,
   "metadata": {},
   "outputs": [],
   "source": [
    "testing = torch.eye(5).type(FloatTensor)"
   ]
  },
  {
   "cell_type": "code",
   "execution_count": 41,
   "metadata": {},
   "outputs": [],
   "source": [
    "model = SithSR(state_len=5, action_len=1)"
   ]
  },
  {
   "cell_type": "code",
   "execution_count": 72,
   "metadata": {},
   "outputs": [],
   "source": [
    "model.learn_step(testing[4], 0)"
   ]
  },
  {
   "cell_type": "code",
   "execution_count": 67,
   "metadata": {},
   "outputs": [
    {
     "data": {
      "text/plain": [
       "\n",
       " 23.5166\n",
       "  0.0091\n",
       "  0.1207\n",
       "  1.3464\n",
       " 10.1742\n",
       " 35.1670\n",
       "  4.3522\n",
       "  2.3697\n",
       "  5.4488\n",
       "  9.8690\n",
       " 11.2486\n",
       " 33.2884\n",
       "  5.9313\n",
       "  6.7224\n",
       "  7.0543\n",
       "  6.5078\n",
       "  5.4633\n",
       " 31.6792\n",
       "  3.9863\n",
       "  3.5588\n",
       "  3.0496\n",
       "  2.5119\n",
       "  2.0013\n",
       " 15.1064\n",
       "  0.6671\n",
       "  0.5180\n",
       "  0.3874\n",
       "  0.2776\n",
       "  0.1892\n",
       "  2.0391\n",
       "[torch.FloatTensor of size 30]"
      ]
     },
     "execution_count": 67,
     "metadata": {},
     "output_type": "execute_result"
    }
   ],
   "source": [
    "model._sith.T"
   ]
  },
  {
   "cell_type": "code",
   "execution_count": 56,
   "metadata": {},
   "outputs": [
    {
     "data": {
      "text/plain": [
       "\n",
       "\n",
       "Columns 0 to 6 \n",
       "    0.0046     0.0603     0.6732     5.0871    11.7580    17.5832     1.1800\n",
       "    4.0194   -56.0119   -67.3105   849.7700  2283.6721  3014.1465   141.6460\n",
       "    3.9939    -0.5987   -97.0327  -283.7577  -198.0655  -575.4628   -60.0349\n",
       "    0.5933     4.0302    -0.0356   -89.1166  -205.9805  -290.5100   -15.7884\n",
       "    0.0603     0.6732     5.0871    11.7580     0.0000    17.5787     2.7086\n",
       "\n",
       "Columns 7 to 13 \n",
       "    2.7086     4.8840     5.4696     1.7280    15.9701     2.6497     2.4810\n",
       "  404.3288   863.9571  1042.0083   335.6210  2787.5212   464.5932   451.7972\n",
       " -126.1705  -174.4089  -121.2456   -29.1088  -510.9652   -85.6512   -71.7154\n",
       "  -41.9801   -83.8318   -95.8187   -30.2720  -267.6874   -44.6356   -42.6875\n",
       "    4.8840     5.4696     1.7280     0.0000    14.7903     2.4810     1.7819\n",
       "\n",
       "Columns 14 to 20 \n",
       "    1.7819     0.7759     0.0938     7.7820     0.5439     0.3266     0.1496\n",
       "  335.8529   149.6034    18.2206  1420.0068   100.0485    61.1848    28.5233\n",
       "  -43.0868   -14.6512    -1.5803  -216.6784   -14.6226    -8.0173    -3.2146\n",
       "  -31.1215   -13.5933    -1.6434  -133.6758    -9.3792    -5.6798    -2.6167\n",
       "    0.7759     0.0938     0.0000     5.1326     0.3266     0.1496     0.0413\n",
       "\n",
       "Columns 21 to 27 \n",
       "    0.0413     0.0032     1.0646     0.0346     0.0168     0.0062     0.0014\n",
       "    7.9797     0.6242   198.3743     6.4506     3.1690     1.1896     0.2679\n",
       "   -0.7495    -0.0541   -26.6585    -0.8641    -0.3872    -0.1280    -0.0246\n",
       "   -0.7232    -0.0563   -18.4564    -0.6000    -0.2925    -0.1088    -0.0242\n",
       "    0.0032     0.0000     0.5206     0.0168     0.0062     0.0014     0.0001\n",
       "\n",
       "Columns 28 to 29 \n",
       "    0.0001     0.0590\n",
       "    0.0147    11.0850\n",
       "   -0.0013    -1.4058\n",
       "   -0.0013    -1.0263\n",
       "    0.0000     0.0245\n",
       "[torch.FloatTensor of size 5x30]"
      ]
     },
     "execution_count": 56,
     "metadata": {},
     "output_type": "execute_result"
    }
   ],
   "source": [
    "model._M"
   ]
  },
  {
   "cell_type": "code",
   "execution_count": 73,
   "metadata": {},
   "outputs": [
    {
     "data": {
      "text/plain": [
       "\n",
       " 5.1342e+08  1.0643e+11 -2.4570e+09 -9.2518e+09 -3.8862e+08\n",
       "[torch.FloatTensor of size 1x5]"
      ]
     },
     "execution_count": 73,
     "metadata": {},
     "output_type": "execute_result"
    }
   ],
   "source": [
    "model._M.mm(st.view(-1, 1)).view(1, -1)"
   ]
  },
  {
   "cell_type": "code",
   "execution_count": 48,
   "metadata": {
    "collapsed": true
   },
   "outputs": [],
   "source": [
    "st = model._sith.T.clone()"
   ]
  },
  {
   "cell_type": "code",
   "execution_count": 74,
   "metadata": {},
   "outputs": [
    {
     "data": {
      "text/plain": [
       "\n",
       "  1.3464\n",
       " 10.1741\n",
       " 23.5160\n",
       "  0.0000\n",
       "  0.0000\n",
       " 35.0366\n",
       "  9.7680\n",
       " 10.9393\n",
       "  3.4560\n",
       "  0.0000\n",
       "  0.0000\n",
       " 24.1633\n",
       "  3.5637\n",
       "  1.5519\n",
       "  0.1876\n",
       "  0.0000\n",
       "  0.0000\n",
       "  5.3036\n",
       "  0.2991\n",
       "  0.0826\n",
       "  0.0064\n",
       "  0.0000\n",
       "  0.0000\n",
       "  0.3881\n",
       "  0.0124\n",
       "  0.0028\n",
       "  0.0002\n",
       "  0.0000\n",
       "  0.0000\n",
       "  0.0154\n",
       "[torch.FloatTensor of size 30]"
      ]
     },
     "execution_count": 74,
     "metadata": {},
     "output_type": "execute_result"
    }
   ],
   "source": [
    "st"
   ]
  },
  {
   "cell_type": "code",
   "execution_count": 76,
   "metadata": {},
   "outputs": [
    {
     "data": {
      "text/plain": [
       "array([ 0.02276712,  0.04880333,  0.10461428,  0.22425   ,  0.48069978,\n",
       "        1.03042269], dtype=float32)"
      ]
     },
     "execution_count": 76,
     "metadata": {},
     "output_type": "execute_result"
    }
   ],
   "source": [
    "model._sith.tau_star[model._sith._T_full_ind]"
   ]
  },
  {
   "cell_type": "code",
   "execution_count": null,
   "metadata": {
    "collapsed": true
   },
   "outputs": [],
   "source": []
  }
 ],
 "metadata": {
  "kernelspec": {
   "display_name": "Python 3",
   "language": "python",
   "name": "python3"
  },
  "language_info": {
   "codemirror_mode": {
    "name": "ipython",
    "version": 3
   },
   "file_extension": ".py",
   "mimetype": "text/x-python",
   "name": "python",
   "nbconvert_exporter": "python",
   "pygments_lexer": "ipython3",
   "version": "3.6.3"
  }
 },
 "nbformat": 4,
 "nbformat_minor": 2
}
