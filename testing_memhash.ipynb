{
 "cells": [
  {
   "cell_type": "code",
   "execution_count": 1,
   "metadata": {},
   "outputs": [
    {
     "name": "stdout",
     "output_type": "stream",
     "text": [
      "Populating the interactive namespace from numpy and matplotlib\n"
     ]
    }
   ],
   "source": [
    "%pylab inline"
   ]
  },
  {
   "cell_type": "code",
   "execution_count": 2,
   "metadata": {},
   "outputs": [
    {
     "name": "stdout",
     "output_type": "stream",
     "text": [
      "True\n"
     ]
    }
   ],
   "source": [
    "import os\n",
    "from collections import namedtuple\n",
    "import numpy as np\n",
    "import pandas as pd\n",
    "import random\n",
    "\n",
    "import torch\n",
    "import torch.nn as nn\n",
    "import torch.nn.functional as F\n",
    "from torch.autograd import Variable\n",
    "import torch.optim as optim\n",
    "\n",
    "from catch import Catch\n",
    "\n",
    "from sith import SITH\n",
    "from memory_hash import HashedMemory\n",
    "\n",
    "# if gpu is to be used\n",
    "use_cuda = torch.cuda.is_available()\n",
    "FloatTensor = torch.cuda.FloatTensor if use_cuda else torch.FloatTensor\n",
    "IntTensor = torch.cuda.IntTensor if use_cuda else torch.IntTensor\n",
    "LongTensor = torch.cuda.LongTensor if use_cuda else torch.LongTensor\n",
    "ByteTensor = torch.cuda.ByteTensor if use_cuda else torch.ByteTensor\n",
    "Tensor = FloatTensor\n",
    "print(use_cuda)"
   ]
  },
  {
   "cell_type": "code",
   "execution_count": 165,
   "metadata": {},
   "outputs": [],
   "source": [
    "\"\"\"\n",
    "Reinforcement learning without going too deep.\n",
    "\"\"\"\n",
    "\n",
    "class SithSR(object):\n",
    "    \"\"\"SITH-based Successor Representation\"\"\"\n",
    "    def __init__(self, state_len, action_len,\n",
    "                 gamma=.9, alpha=.5, num_drifts=3,\n",
    "                 info_rate=1./30., dt=1./30./10., dur=1./30./10.,\n",
    "                 dtype=np.float32):\n",
    "        # save the vars\n",
    "        self._dtype = dtype\n",
    "        self._state_len = state_len\n",
    "        self._action_len = action_len\n",
    "        self._info_rate = info_rate\n",
    "        self._dt = dt\n",
    "        self._dur = dur\n",
    "        self._delay = info_rate - dt\n",
    "\n",
    "        self._num_drifts = num_drifts\n",
    "\n",
    "        self._gamma = gamma\n",
    "        self._alpha = alpha\n",
    "\n",
    "        self.history = None\n",
    "\n",
    "        self._actions = torch.eye(action_len).type(FloatTensor)\n",
    "        # init sith\n",
    "        self._in_sith = state_len + action_len\n",
    "        self._sith = SITH(self._in_sith, dt=self._dt, tau_0=self._info_rate, ntau=25, dtype=self._dtype, use_cuda=use_cuda)\n",
    "        self._p0 = torch.zeros((self._state_len, 1)).type(FloatTensor)\n",
    "\n",
    "        # allocate for M\n",
    "        self._in_M = self._sith.T.size()[0]\n",
    "        self._M = torch.zeros((self._state_len, self._in_M)).type(FloatTensor) # (outM, inM)\n",
    "\n",
    "    def reset_T(self):\n",
    "        self._sith.reset()\n",
    "\n",
    "    def add_memory(self, reward):\n",
    "        curr_history = torch.cat((self._sith.T.view(-1).unsqueeze(0),\n",
    "                                  FloatTensor([reward]).unsqueeze(0)),\n",
    "                                 1)\n",
    "        if self.history is None:\n",
    "            self.history = curr_history\n",
    "        else:\n",
    "            self.history = torch.cat((self.history, curr_history), 0)\n",
    "\n",
    "\n",
    "    def _grab_goal(self, state):\n",
    "        # Save current t for later\n",
    "        t_save = self._sith._t.clone()\n",
    "\n",
    "        # Pull out rewards and features from our history. They are needed\n",
    "        # in seperate steps\n",
    "        rewards = self.history[:,-1]\n",
    "        rewarding = torch.zeros(self.history.size(0)).type(FloatTensor)\n",
    "        historical_features = self.history[:, :-1]\n",
    "\n",
    "        # Delay sith and find the reward values from the has table.\n",
    "        for i in range(self._num_drifts):\n",
    "            self._sith.update_t(item=None, dur=self._info_rate)\n",
    "            feature_similarity = torch.mm(historical_features,\n",
    "                                          self._sith.flatten_T().unsqueeze(1))\n",
    "            # Take how closely related the historical features, and multiply\n",
    "            # those by the rewards. This will tell use which history is the\n",
    "            # closest to ours and the most rewarding.\n",
    "            rewarding += feature_similarity.view(-1)*rewards\n",
    "        # Return t to its previous\n",
    "        self._sith._t = t_save\n",
    "        self._sith._t_changed = True\n",
    "        # Pull out the maximumly rewarding state of T from the hash table.\n",
    "        # That is the goal for our actor\n",
    "        out = self.history[rewarding.max(0)[1]][:,:-1]\n",
    "\n",
    "        return out\n",
    "\n",
    "    def pick_action(self, state):\n",
    "        # try out various actions and get max reward\n",
    "        goal_state = self._grab_goal(state)\n",
    "        t_save = self._sith.t.clone()\n",
    "\n",
    "        # try out each action\n",
    "        potential_futures = None\n",
    "\n",
    "        # we need to reset t to the old t every loop. &\n",
    "        for a in self._actions:\n",
    "            \n",
    "            # update sith\n",
    "            sa = torch.cat((state, a), 0)\n",
    "            self._sith.update_t(sa, dur=self._dur)\n",
    "            self._sith.update_t(item=None, dur=self._delay)\n",
    "\n",
    "            # pass through M to get reward\n",
    "            if potential_futures is None:\n",
    "                potential_futures = self._M.mm(self._sith.T.view(-1, 1)).view(1, -1)\n",
    "            else:\n",
    "                potential_futures = torch.cat((potential_futures,\n",
    "                                               self._M.mm(self._sith.T.view(-1, 1)).view(1, -1)),\n",
    "                                              0)\n",
    "            self._sith._t = t_save\n",
    "            self._sith._t_changed = True\n",
    "        evidence = potential_futures.mm(goal_state.view(-1, 1)[:self._in_sith-self._action_len])\n",
    "\n",
    "        value, action_index = evidence.max(0)\n",
    "\n",
    "        return action_index\n",
    "\n",
    "    def learn_step(self, state, action):\n",
    "        # turn into new sa1\n",
    "        sa1 = torch.cat((state, self._actions[action].view(-1)), 0).unsqueeze(1)\n",
    "        #sa1_p = torch.cat((sa1, torch.zeros((self._sith.T.size(0) - sa1.size(0), 1)).type(FloatTensor)), 0)\n",
    "        sa1_p = torch.cat((torch.zeros((self._sith.T.size(0) - sa1.size(0), 1)).type(FloatTensor), sa1), 0)\n",
    "        # calc prediction from new state\n",
    "        p1 = self._M.mm(sa1_p)\n",
    "        # update M based on prediction error\n",
    "        #perr = state.unsqueeze(1) + self._gamma * p1 - self._p0\n",
    "        perr = state.unsqueeze(1) - self._p0\n",
    "        self._M += self._alpha * perr.mm(self._sith.T.unsqueeze(1).t())\n",
    "        \n",
    "        # update T with that state action\n",
    "        self._sith.update_t(item=sa1.view(-1), dur=self._dur)\n",
    "        self._sith.update_t(item=None, dur=self._delay)\n",
    "\n",
    "        # prepare for next loop\n",
    "        self._p0 = p1\n"
   ]
  },
  {
   "cell_type": "code",
   "execution_count": 166,
   "metadata": {},
   "outputs": [],
   "source": [
    "# global params\n",
    "height = 10\n",
    "width=10\n",
    "num_actions = 3\n",
    "input_size = width * height\n",
    "\n",
    "# how many games to train on every frame\n",
    "games_per_frame = 10\n",
    "\n",
    "masks = [0] #[0, 1, 2, 4, 8, 12, 16]\n",
    "\n",
    "q_sizes = {'RL':[1]}\n",
    "           #'queue': [1, 5, 10]}\n",
    "mod_type = [\"RL\"]\n",
    "num_runs = 1\n",
    "model = SithSR(state_len=input_size, action_len=num_actions)"
   ]
  },
  {
   "cell_type": "code",
   "execution_count": 167,
   "metadata": {
    "collapsed": true
   },
   "outputs": [],
   "source": [
    "run_base = 'catch_long_lr'\n",
    "#run_base = 'catch_MSE'\n",
    "num_games = 100\n",
    "hidden_size = input_size * 1\n",
    "per_random_act = .1\n",
    "# set up the catch environment\n",
    "c = Catch(screen_height=height, screen_width=width,\n",
    "          game_over_conditions = {'ball_deletions': 1},\n",
    "          mask=0, ball_spawn_rate=height+1,)"
   ]
  },
  {
   "cell_type": "code",
   "execution_count": null,
   "metadata": {
    "collapsed": true
   },
   "outputs": [],
   "source": []
  },
  {
   "cell_type": "code",
   "execution_count": 168,
   "metadata": {
    "scrolled": true
   },
   "outputs": [
    {
     "name": "stdout",
     "output_type": "stream",
     "text": [
      "0 :  -1.0\n",
      "1 :  -2.0\n",
      "2 :  -3.0\n",
      "3 :  -4.0\n",
      "4 :  -5.0\n",
      "5 :  -6.0\n",
      "6 :  -7.0\n",
      "7 :  -8.0\n",
      "8 :  -9.0\n",
      "9 :  -10.0\n",
      "10 :  -11.0\n",
      "11 :  -12.0\n",
      "12 :  -11.0\n",
      "13 :  -12.0\n",
      "14 :  -13.0\n",
      "15 :  -14.0\n",
      "16 :  -15.0\n",
      "17 :  -14.0\n",
      "18 :  -15.0\n",
      "19 :  -16.0\n",
      "20 :  -17.0\n",
      "21 :  -18.0\n",
      "22 :  -19.0\n",
      "23 :  -18.0\n",
      "24 :  -19.0\n",
      "25 :  -20.0\n",
      "26 :  -19.0\n",
      "27 :  -18.0\n",
      "28 :  -19.0\n",
      "29 :  -18.0\n",
      "30 :  -17.0\n",
      "31 :  -16.0\n",
      "32 :  -15.0\n",
      "33 :  -16.0\n",
      "34 :  -17.0\n",
      "35 :  -18.0\n",
      "36 :  -17.0\n",
      "37 :  -18.0\n",
      "38 :  -19.0\n",
      "39 :  -20.0\n",
      "40 :  -19.0\n",
      "41 :  -20.0\n",
      "42 :  -21.0\n",
      "43 :  -22.0\n",
      "44 :  -23.0\n",
      "45 :  -22.0\n",
      "46 :  -21.0\n",
      "47 :  -20.0\n",
      "48 :  -21.0\n",
      "49 :  -22.0\n",
      "50 :  -23.0\n",
      "51 :  -22.0\n",
      "52 :  -21.0\n",
      "53 :  -20.0\n",
      "54 :  -21.0\n",
      "55 :  -22.0\n",
      "56 :  -23.0\n",
      "57 :  -22.0\n",
      "58 :  -23.0\n",
      "59 :  -24.0\n",
      "60 :  -25.0\n",
      "61 :  -24.0\n",
      "62 :  -23.0\n",
      "63 :  -24.0\n",
      "64 :  -25.0\n",
      "65 :  -24.0\n",
      "66 :  -23.0\n",
      "67 :  -24.0\n",
      "68 :  -23.0\n",
      "69 :  -24.0\n",
      "70 :  -25.0\n",
      "71 :  -26.0\n",
      "72 :  -27.0\n",
      "73 :  -26.0\n",
      "74 :  -27.0\n",
      "75 :  -28.0\n",
      "76 :  -29.0\n",
      "77 :  -30.0\n",
      "78 :  -29.0\n",
      "79 :  -30.0\n",
      "80 :  -31.0\n",
      "81 :  -32.0\n",
      "82 :  -31.0\n",
      "83 :  -30.0\n",
      "84 :  -31.0\n",
      "85 :  -32.0\n",
      "86 :  -33.0\n",
      "87 :  -34.0\n",
      "88 :  -35.0\n",
      "89 :  -36.0\n",
      "90 :  -35.0\n",
      "91 :  -36.0\n",
      "92 :  -35.0\n",
      "93 :  -36.0\n",
      "94 :  -35.0\n",
      "95 :  -36.0\n",
      "96 :  -37.0\n",
      "97 :  -38.0\n",
      "98 :  -37.0\n",
      "99 :  -38.0\n"
     ]
    }
   ],
   "source": [
    "tot_score = 0.0\n",
    "\n",
    "# train over total epochs\n",
    "for e in range(num_games):\n",
    "    c.reset()\n",
    "    model.reset_T()\n",
    "    game_over = False\n",
    "    # get initial input\n",
    "    input_t = Tensor(c.observe(flatten=True))\n",
    "    \n",
    "    #iterate over each game\n",
    "    while not game_over:\n",
    "        # t_-1 is the previous observation\n",
    "        input_tm1 = input_t.clone()\n",
    "\n",
    "\n",
    "        # Randomly pick an action, or use the\n",
    "        # Previously calculated action\n",
    "        if (np.random.rand() <= per_random_act) or (model.history is None):\n",
    "            action = (torch.rand(1) * (num_actions)).type(LongTensor)\n",
    "        else:\n",
    "            action = model.pick_action(input_tm1)\n",
    "\n",
    "        # apply action, get rewards and new state\n",
    "        reward, timestep, game_over = c.act(action.cpu().numpy()[0]-1)\n",
    "\n",
    "        # t_0, current timestep\n",
    "        input_t = Tensor(c.observe(flatten=True))\n",
    "\n",
    "        # store experience\n",
    "        model.learn_step(state=input_tm1, action=action.cpu().numpy()[0])\n",
    "        if reward != 0:\n",
    "            model.add_memory(reward)\n",
    "            tot_score += reward\n",
    "    print(e, \": \", tot_score)\n",
    "    # Reset Game and Model Queue when the game is over.\n",
    "    "
   ]
  },
  {
   "cell_type": "code",
   "execution_count": 169,
   "metadata": {
    "scrolled": false
   },
   "outputs": [
    {
     "data": {
      "text/plain": [
       "<matplotlib.colorbar.Colorbar at 0x7f6968a7f4a8>"
      ]
     },
     "execution_count": 169,
     "metadata": {},
     "output_type": "execute_result"
    },
    {
     "data": {
      "image/png": "[encoded data removed]",
      "text/plain": [
       "<matplotlib.figure.Figure at 0x7f69689dacf8>"
      ]
     },
     "metadata": {},
     "output_type": "display_data"
    }
   ],
   "source": [
    "matshow(model._M.cpu().numpy())\n",
    "colorbar()\n"
   ]
  },
  {
   "cell_type": "code",
   "execution_count": 137,
   "metadata": {},
   "outputs": [
    {
     "data": {
      "text/plain": [
       "\n",
       "    0     0     0  ...      0     0     0\n",
       "    0     0     0  ...      0     0     0\n",
       "    0     0     0  ...      0     0     0\n",
       "       ...          ⋱          ...       \n",
       "  nan   nan   nan  ...    nan   nan   nan\n",
       "  nan   nan   nan  ...    nan   nan   nan\n",
       "  nan   nan   nan  ...    nan   nan   nan\n",
       "[torch.cuda.FloatTensor of size 100x515 (GPU 0)]"
      ]
     },
     "execution_count": 137,
     "metadata": {},
     "output_type": "execute_result"
    }
   ],
   "source": [
    "model._M"
   ]
  },
  {
   "cell_type": "code",
   "execution_count": 8,
   "metadata": {},
   "outputs": [
    {
     "data": {
      "text/plain": [
       "<matplotlib.colorbar.Colorbar at 0x7fe9442c7ef0>"
      ]
     },
     "execution_count": 8,
     "metadata": {},
     "output_type": "execute_result"
    },
    {
     "data": {
      "image/png": "[encoded data removed]",
      "text/plain": [
       "<matplotlib.figure.Figure at 0x7fe9442c7f98>"
      ]
     },
     "metadata": {},
     "output_type": "display_data"
    }
   ],
   "source": [
    "matshow(model._sith.T[0:100].view(10,10).cpu().numpy())\n",
    "colorbar()"
   ]
  },
  {
   "cell_type": "code",
   "execution_count": 260,
   "metadata": {},
   "outputs": [
    {
     "data": {
      "text/plain": [
       "<matplotlib.image.AxesImage at 0x7fcd336dd470>"
      ]
     },
     "execution_count": 260,
     "metadata": {},
     "output_type": "execute_result"
    },
    {
     "data": {
      "image/png": "[encoded data removed]",
      "text/plain": [
       "<matplotlib.figure.Figure at 0x7fcd33aad208>"
      ]
     },
     "metadata": {},
     "output_type": "display_data"
    }
   ],
   "source": [
    "matshow(model._sith.T[103:203].view(10,10).cpu().numpy())"
   ]
  },
  {
   "cell_type": "code",
   "execution_count": 261,
   "metadata": {},
   "outputs": [
    {
     "data": {
      "text/plain": [
       "<matplotlib.image.AxesImage at 0x7fcd336b4860>"
      ]
     },
     "execution_count": 261,
     "metadata": {},
     "output_type": "execute_result"
    },
    {
     "data": {
      "image/png": "[encoded data removed]",
      "text/plain": [
       "<matplotlib.figure.Figure at 0x7fcd336f86a0>"
      ]
     },
     "metadata": {},
     "output_type": "display_data"
    }
   ],
   "source": [
    "matshow(model._sith.T[206:306].view(10,10).cpu().numpy())"
   ]
  },
  {
   "cell_type": "code",
   "execution_count": 262,
   "metadata": {},
   "outputs": [
    {
     "data": {
      "text/plain": [
       "<matplotlib.image.AxesImage at 0x7fcd33609cc0>"
      ]
     },
     "execution_count": 262,
     "metadata": {},
     "output_type": "execute_result"
    },
    {
     "data": {
      "image/png": "[encoded data removed]",
      "text/plain": [
       "<matplotlib.figure.Figure at 0x7fcd33838ac8>"
      ]
     },
     "metadata": {},
     "output_type": "display_data"
    }
   ],
   "source": [
    "matshow(model._sith.T[0:100].view(10,10).cpu().numpy())"
   ]
  },
  {
   "cell_type": "code",
   "execution_count": 170,
   "metadata": {},
   "outputs": [],
   "source": [
    "sith = SITH(103, dt=1./30./10., ntau=25, T_every=8, tau_0=1./30.,dtype=np.float32, use_cuda=use_cuda)\n",
    "actions = torch.eye(3).type(FloatTensor)\n"
   ]
  },
  {
   "cell_type": "code",
   "execution_count": 216,
   "metadata": {},
   "outputs": [
    {
     "data": {
      "text/plain": [
       "<matplotlib.colorbar.Colorbar at 0x7f69680916d8>"
      ]
     },
     "execution_count": 216,
     "metadata": {},
     "output_type": "execute_result"
    },
    {
     "data": {
      "image/png": "[encoded data removed]",
      "text/plain": [
       "<matplotlib.figure.Figure at 0x7f69681ead30>"
      ]
     },
     "metadata": {},
     "output_type": "display_data"
    }
   ],
   "source": [
    "matshow(sith.T.unsqueeze(1).t().cpu().numpy()[:,-103:-3])\n",
    "colorbar()"
   ]
  },
  {
   "cell_type": "code",
   "execution_count": 202,
   "metadata": {
    "collapsed": true
   },
   "outputs": [],
   "source": [
    "input_t = Tensor(c.observe(flatten=True))"
   ]
  },
  {
   "cell_type": "code",
   "execution_count": 203,
   "metadata": {},
   "outputs": [
    {
     "data": {
      "text/plain": [
       "\n",
       "    0     0     0     0     0     0     0     0     0     0\n",
       "    0     0     0     0     0     0     0     0     0     0\n",
       "    0     0     0     0     0     0     0     0     0     0\n",
       "    0     0     0     0     0     0     0     1     0     0\n",
       "    0     0     0     0     0     0     0     0     0     0\n",
       "    0     0     0     0     0     0     0     0     0     0\n",
       "    0     0     0     0     0     0     0     0     0     0\n",
       "    0     0     0     0     0     0     0     0     0     0\n",
       "    0     0     0     0     0     0     0     0     0     0\n",
       "    1     1     1     0     0     0     0     0     0     0\n",
       "[torch.cuda.FloatTensor of size 10x10 (GPU 0)]"
      ]
     },
     "execution_count": 203,
     "metadata": {},
     "output_type": "execute_result"
    }
   ],
   "source": [
    "input_t.view(10,10)"
   ]
  },
  {
   "cell_type": "code",
   "execution_count": 204,
   "metadata": {},
   "outputs": [],
   "source": [
    "sa1 = torch.cat((input_t, actions[0].view(-1)), 0).unsqueeze(1)\n"
   ]
  },
  {
   "cell_type": "code",
   "execution_count": 205,
   "metadata": {
    "collapsed": true
   },
   "outputs": [],
   "source": [
    "sith.update_t(item=sa1.view(-1), dur=1./30./10.)\n",
    "sith.update_t(item=None, dur=(1./30.) - (1./30./10.))"
   ]
  },
  {
   "cell_type": "code",
   "execution_count": 206,
   "metadata": {
    "collapsed": true
   },
   "outputs": [],
   "source": [
    "reward, timestep, game_over = c.act(-1)"
   ]
  },
  {
   "cell_type": "code",
   "execution_count": 207,
   "metadata": {},
   "outputs": [
    {
     "data": {
      "text/plain": [
       "<matplotlib.colorbar.Colorbar at 0x7f6968484630>"
      ]
     },
     "execution_count": 207,
     "metadata": {},
     "output_type": "execute_result"
    },
    {
     "data": {
      "image/png": "[encoded data removed]",
      "text/plain": [
       "<matplotlib.figure.Figure at 0x7f69685b20f0>"
      ]
     },
     "metadata": {},
     "output_type": "display_data"
    }
   ],
   "source": [
    "matshow(sith.T[0:100].view(10,10).cpu().numpy())\n",
    "colorbar()"
   ]
  },
  {
   "cell_type": "code",
   "execution_count": 208,
   "metadata": {},
   "outputs": [
    {
     "data": {
      "text/plain": [
       "<matplotlib.colorbar.Colorbar at 0x7f696832ffd0>"
      ]
     },
     "execution_count": 208,
     "metadata": {},
     "output_type": "execute_result"
    },
    {
     "data": {
      "image/png": "[encoded data removed]",
      "text/plain": [
       "<matplotlib.figure.Figure at 0x7f6968354080>"
      ]
     },
     "metadata": {},
     "output_type": "display_data"
    }
   ],
   "source": [
    "matshow(sith.T[103:203].view(10,10).cpu().numpy())\n",
    "colorbar()"
   ]
  },
  {
   "cell_type": "code",
   "execution_count": 178,
   "metadata": {},
   "outputs": [
    {
     "data": {
      "text/plain": [
       "<matplotlib.colorbar.Colorbar at 0x7f6968de1b70>"
      ]
     },
     "execution_count": 178,
     "metadata": {},
     "output_type": "execute_result"
    },
    {
     "data": {
      "image/png": "[encoded data removed]",
      "text/plain": [
       "<matplotlib.figure.Figure at 0x7f6968ab7400>"
      ]
     },
     "metadata": {},
     "output_type": "display_data"
    }
   ],
   "source": [
    "matshow(sith.T[206:306].view(10,10).cpu().numpy())\n",
    "colorbar()"
   ]
  },
  {
   "cell_type": "code",
   "execution_count": 179,
   "metadata": {},
   "outputs": [
    {
     "data": {
      "text/plain": [
       "<matplotlib.colorbar.Colorbar at 0x7f6968868128>"
      ]
     },
     "execution_count": 179,
     "metadata": {},
     "output_type": "execute_result"
    },
    {
     "data": {
      "image/png": "[encoded data removed]",
      "text/plain": [
       "<matplotlib.figure.Figure at 0x7f6968aaf9b0>"
      ]
     },
     "metadata": {},
     "output_type": "display_data"
    }
   ],
   "source": [
    "matshow(sith.T[309:409].view(10,10).cpu().numpy())\n",
    "colorbar()"
   ]
  },
  {
   "cell_type": "code",
   "execution_count": null,
   "metadata": {},
   "outputs": [],
   "source": []
  },
  {
   "cell_type": "code",
   "execution_count": null,
   "metadata": {
    "collapsed": true
   },
   "outputs": [],
   "source": []
  },
  {
   "cell_type": "code",
   "execution_count": 180,
   "metadata": {
    "collapsed": true
   },
   "outputs": [],
   "source": [
    "c.reset()"
   ]
  },
  {
   "cell_type": "code",
   "execution_count": 224,
   "metadata": {
    "collapsed": true
   },
   "outputs": [],
   "source": [
    "sith = SITH(103, dt=1./30./10., ntau=25, tau_0=1/30., dtype=np.float32, use_cuda=use_cuda)\n"
   ]
  },
  {
   "cell_type": "code",
   "execution_count": 294,
   "metadata": {},
   "outputs": [
    {
     "data": {
      "text/plain": [
       "array([ 0.06830134,  0.14641   ,  0.31384283,  0.67275   ,  1.44209933,\n",
       "        3.09126806], dtype=float32)"
      ]
     },
     "execution_count": 294,
     "metadata": {},
     "output_type": "execute_result"
    }
   ],
   "source": [
    "sith.tau_star[sith._T_full_ind]"
   ]
  },
  {
   "cell_type": "code",
   "execution_count": 295,
   "metadata": {},
   "outputs": [
    {
     "data": {
      "text/plain": [
       "slice(None, None, 8)"
      ]
     },
     "execution_count": 295,
     "metadata": {},
     "output_type": "execute_result"
    }
   ],
   "source": [
    "sith._T_full_ind  \n"
   ]
  },
  {
   "cell_type": "code",
   "execution_count": 296,
   "metadata": {},
   "outputs": [
    {
     "data": {
      "text/plain": [
       "\n",
       "  483.7441   471.4608 -3015.8479  ...      0.0000     0.0000     0.0000\n",
       "    0.0000   439.7670   428.6008  ...      0.0000     0.0000     0.0000\n",
       "    0.0000     0.0000   399.7878  ...      0.0000     0.0000     0.0000\n",
       "              ...                  ⋱                 ...               \n",
       "    0.0000     0.0000     0.0000  ...    186.5042     0.0000     0.0000\n",
       "    0.0000     0.0000     0.0000  ...   -102.6039   169.5493     0.0000\n",
       "    0.0000     0.0000     0.0000  ...   -370.4851   -93.2761   154.1357\n",
       "[torch.cuda.FloatTensor of size 33x41 (GPU 0)]"
      ]
     },
     "execution_count": 296,
     "metadata": {},
     "output_type": "execute_result"
    }
   ],
   "source": [
    "sith._invL"
   ]
  },
  {
   "cell_type": "code",
   "execution_count": null,
   "metadata": {
    "collapsed": true
   },
   "outputs": [],
   "source": []
  }
 ],
 "metadata": {
  "kernelspec": {
   "display_name": "Python 3",
   "language": "python",
   "name": "python3"
  },
  "language_info": {
   "codemirror_mode": {
    "name": "ipython",
    "version": 3
   },
   "file_extension": ".py",
   "mimetype": "text/x-python",
   "name": "python",
   "nbconvert_exporter": "python",
   "pygments_lexer": "ipython3",
   "version": "3.6.3"
  }
 },
 "nbformat": 4,
 "nbformat_minor": 2
}
